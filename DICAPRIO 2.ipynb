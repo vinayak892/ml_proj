{
 "cells": [
  {
   "cell_type": "code",
   "execution_count": 1,
   "metadata": {},
   "outputs": [],
   "source": [
    "import pandas as pd\n",
    "import matplotlib.pyplot as plt\n",
    "import seaborn as sns\n",
    "import numpy as np\n",
    "import tensorflow as tf"
   ]
  },
  {
   "cell_type": "code",
   "execution_count": 2,
   "metadata": {},
   "outputs": [],
   "source": [
    "import time"
   ]
  },
  {
   "cell_type": "code",
   "execution_count": 3,
   "metadata": {},
   "outputs": [],
   "source": [
    "from spellchecker import SpellChecker"
   ]
  },
  {
   "cell_type": "code",
   "execution_count": 4,
   "metadata": {},
   "outputs": [],
   "source": [
    "from wordcloud import STOPWORDS, WordCloud"
   ]
  },
  {
   "cell_type": "code",
   "execution_count": 20,
   "metadata": {},
   "outputs": [],
   "source": [
    "df = pd.read_csv(r'C:\\Users\\Vinayak Sidharth\\Documents\\twitter//train.csv', encoding = 'latin-1')"
   ]
  },
  {
   "cell_type": "code",
   "execution_count": 21,
   "metadata": {},
   "outputs": [
    {
     "data": {
      "text/html": [
       "<div>\n",
       "<style scoped>\n",
       "    .dataframe tbody tr th:only-of-type {\n",
       "        vertical-align: middle;\n",
       "    }\n",
       "\n",
       "    .dataframe tbody tr th {\n",
       "        vertical-align: top;\n",
       "    }\n",
       "\n",
       "    .dataframe thead th {\n",
       "        text-align: right;\n",
       "    }\n",
       "</style>\n",
       "<table border=\"1\" class=\"dataframe\">\n",
       "  <thead>\n",
       "    <tr style=\"text-align: right;\">\n",
       "      <th></th>\n",
       "      <th>target</th>\n",
       "      <th>id</th>\n",
       "      <th>date</th>\n",
       "      <th>flag</th>\n",
       "      <th>user</th>\n",
       "      <th>text</th>\n",
       "    </tr>\n",
       "  </thead>\n",
       "  <tbody>\n",
       "    <tr>\n",
       "      <th>0</th>\n",
       "      <td>0</td>\n",
       "      <td>1467810369</td>\n",
       "      <td>Mon Apr 06 22:19:45 PDT 2009</td>\n",
       "      <td>NO_QUERY</td>\n",
       "      <td>_TheSpecialOne_</td>\n",
       "      <td>@switchfoot http://twitpic.com/2y1zl - Awww, t...</td>\n",
       "    </tr>\n",
       "    <tr>\n",
       "      <th>1</th>\n",
       "      <td>0</td>\n",
       "      <td>1467810672</td>\n",
       "      <td>Mon Apr 06 22:19:49 PDT 2009</td>\n",
       "      <td>NO_QUERY</td>\n",
       "      <td>scotthamilton</td>\n",
       "      <td>is upset that he can't update his Facebook by ...</td>\n",
       "    </tr>\n",
       "    <tr>\n",
       "      <th>2</th>\n",
       "      <td>0</td>\n",
       "      <td>1467810917</td>\n",
       "      <td>Mon Apr 06 22:19:53 PDT 2009</td>\n",
       "      <td>NO_QUERY</td>\n",
       "      <td>mattycus</td>\n",
       "      <td>@Kenichan I dived many times for the ball. Man...</td>\n",
       "    </tr>\n",
       "    <tr>\n",
       "      <th>3</th>\n",
       "      <td>0</td>\n",
       "      <td>1467811184</td>\n",
       "      <td>Mon Apr 06 22:19:57 PDT 2009</td>\n",
       "      <td>NO_QUERY</td>\n",
       "      <td>ElleCTF</td>\n",
       "      <td>my whole body feels itchy and like its on fire</td>\n",
       "    </tr>\n",
       "  </tbody>\n",
       "</table>\n",
       "</div>"
      ],
      "text/plain": [
       "   target          id                          date      flag  \\\n",
       "0       0  1467810369  Mon Apr 06 22:19:45 PDT 2009  NO_QUERY   \n",
       "1       0  1467810672  Mon Apr 06 22:19:49 PDT 2009  NO_QUERY   \n",
       "2       0  1467810917  Mon Apr 06 22:19:53 PDT 2009  NO_QUERY   \n",
       "3       0  1467811184  Mon Apr 06 22:19:57 PDT 2009  NO_QUERY   \n",
       "\n",
       "              user                                               text  \n",
       "0  _TheSpecialOne_  @switchfoot http://twitpic.com/2y1zl - Awww, t...  \n",
       "1    scotthamilton  is upset that he can't update his Facebook by ...  \n",
       "2         mattycus  @Kenichan I dived many times for the ball. Man...  \n",
       "3          ElleCTF    my whole body feels itchy and like its on fire   "
      ]
     },
     "execution_count": 21,
     "metadata": {},
     "output_type": "execute_result"
    }
   ],
   "source": [
    "df.head(4)"
   ]
  },
  {
   "cell_type": "code",
   "execution_count": null,
   "metadata": {},
   "outputs": [],
   "source": []
  },
  {
   "cell_type": "code",
   "execution_count": null,
   "metadata": {},
   "outputs": [],
   "source": [
    "\n"
   ]
  },
  {
   "cell_type": "code",
   "execution_count": 22,
   "metadata": {},
   "outputs": [],
   "source": [
    "df.drop(['flag'],axis=1, inplace = True)"
   ]
  },
  {
   "cell_type": "code",
   "execution_count": 23,
   "metadata": {},
   "outputs": [],
   "source": [
    "users = np.array(df['user'].unique() )"
   ]
  },
  {
   "cell_type": "code",
   "execution_count": 24,
   "metadata": {},
   "outputs": [],
   "source": [
    "all_text = np.array(df['text'].values)"
   ]
  },
  {
   "cell_type": "code",
   "execution_count": 25,
   "metadata": {},
   "outputs": [],
   "source": [
    "target_val = np.array(df['target'].values)"
   ]
  },
  {
   "cell_type": "code",
   "execution_count": 26,
   "metadata": {},
   "outputs": [],
   "source": [
    "def ttarg(i,df):\n",
    "    print('{}_is the target\\n'.format(np.array(df['target'].values)[i]))\n",
    "    print(np.array(df['text'].values)[i])\n",
    "    "
   ]
  },
  {
   "cell_type": "code",
   "execution_count": 27,
   "metadata": {},
   "outputs": [],
   "source": [
    "df_1 = df.sample(frac=1, random_state = 43)\n",
    "df_1['text'] = df_1['text'].apply(str)"
   ]
  },
  {
   "cell_type": "code",
   "execution_count": 28,
   "metadata": {},
   "outputs": [
    {
     "name": "stdout",
     "output_type": "stream",
     "text": [
      "4_is the target\n",
      "\n",
      "so they WON YEAH!! a little late cause i kept rewinding the dang thing \n"
     ]
    }
   ],
   "source": [
    "ttarg(10,df_1)"
   ]
  },
  {
   "cell_type": "code",
   "execution_count": 29,
   "metadata": {},
   "outputs": [
    {
     "data": {
      "text/plain": [
       "array([0, 4], dtype=int64)"
      ]
     },
     "execution_count": 29,
     "metadata": {},
     "output_type": "execute_result"
    }
   ],
   "source": [
    "df['target'].unique()"
   ]
  },
  {
   "cell_type": "code",
   "execution_count": 30,
   "metadata": {},
   "outputs": [],
   "source": [
    "def poss(val):\n",
    "    if val == 4:\n",
    "        res = 1\n",
    "    else :\n",
    "        res = 0\n",
    "    return res"
   ]
  },
  {
   "cell_type": "code",
   "execution_count": 31,
   "metadata": {},
   "outputs": [],
   "source": [
    "df_1['target'] = df_1['target'].apply(lambda x : poss(x))"
   ]
  },
  {
   "cell_type": "code",
   "execution_count": 32,
   "metadata": {},
   "outputs": [],
   "source": [
    "text_0 = np.array(df_1.loc[df_1['target']==0]['text'].values)\n",
    "text_1 = np.array(df_1.loc[df_1['target']==1]['text'].values)"
   ]
  },
  {
   "cell_type": "code",
   "execution_count": 33,
   "metadata": {},
   "outputs": [],
   "source": [
    "X_1 = df_1.text.values"
   ]
  },
  {
   "cell_type": "code",
   "execution_count": 34,
   "metadata": {},
   "outputs": [],
   "source": [
    "y = df_1.target.values"
   ]
  },
  {
   "cell_type": "code",
   "execution_count": null,
   "metadata": {},
   "outputs": [],
   "source": [
    "\n"
   ]
  },
  {
   "cell_type": "code",
   "execution_count": 35,
   "metadata": {},
   "outputs": [
    {
     "data": {
      "text/plain": [
       "array([\"@speakforme I know. We should go asap. like when we get back home I wanna buy jeans, too. But I'm too fat for jeans. \",\n",
       "       '@Lisa_Nova we had it but we lost it  very sad 4 us cause we loved it',\n",
       "       \"I would've wifed @KiyastarW ... if only she would have me! \", ...,\n",
       "       'locked out of my outlook account for the 3rd time in 3 days ',\n",
       "       \"Ugh. Slept 'til now. My cold hath blossomed during the night. \",\n",
       "       '@sourapplemedia is that coffee house at City Center?  I miss the Italian Ice shop next door '],\n",
       "      dtype=object)"
      ]
     },
     "execution_count": 35,
     "metadata": {},
     "output_type": "execute_result"
    }
   ],
   "source": [
    "text_0"
   ]
  },
  {
   "cell_type": "code",
   "execution_count": 36,
   "metadata": {},
   "outputs": [
    {
     "name": "stdout",
     "output_type": "stream",
     "text": [
      "1_is the target\n",
      "\n",
      "@winniedepoohi it was good .. but not better than the time we had \n"
     ]
    }
   ],
   "source": [
    "ttarg(222,df_1)"
   ]
  },
  {
   "cell_type": "code",
   "execution_count": 38,
   "metadata": {},
   "outputs": [],
   "source": [
    "STOPWORDS.add('ibm')"
   ]
  },
  {
   "cell_type": "code",
   "execution_count": 39,
   "metadata": {},
   "outputs": [],
   "source": [
    "def correct_txt(text):\n",
    "    final = []\n",
    "    final2 = []\n",
    "    for num,i in enumerate(text):\n",
    "        lower = []\n",
    "        word_arr = i.split()\n",
    "        for j in word_arr:\n",
    "            lower.append(j.lower())\n",
    "        \n",
    "        spell = SpellChecker()\n",
    "        misspelled = spell.unknown(lower)\n",
    "        \n",
    "        for word in misspelled:\n",
    "            lower.remove(word)\n",
    "            lower.append(spell.correction(word))\n",
    "        final.append(lower)\n",
    "        num = num + 1\n",
    "\n",
    "    \n",
    "            \n",
    "    for j in final:\n",
    "        final2.append(list(filter(lambda x: x[0]!= '@', j)))\n",
    "        \n",
    "        \n",
    "    return final, final2\n",
    "        \n",
    "        "
   ]
  },
  {
   "cell_type": "code",
   "execution_count": 40,
   "metadata": {},
   "outputs": [],
   "source": [
    "def correct_notxt(text):\n",
    "    final = []\n",
    "    final2 = []\n",
    "    for num,i in enumerate(text):\n",
    "        lower = []\n",
    "        word_arr = i.split()\n",
    "        for j in word_arr:\n",
    "            lower.append(j.lower())\n",
    "        final.append(lower)\n",
    "            \n",
    "        num = num + 1\n",
    "        if num %100000 ==0:\n",
    "            print('{}/{}'.format(num,len(text)))\n",
    "            \n",
    "    for j in final:\n",
    "        final2.append(list(filter(lambda x: x[0]!= '@', j)))\n",
    "        \n",
    "        \n",
    "    return final, final2\n",
    "            \n",
    "    "
   ]
  },
  {
   "cell_type": "code",
   "execution_count": 41,
   "metadata": {},
   "outputs": [],
   "source": [
    "def combine_array(popo):\n",
    "    coom = []\n",
    "    for i in popo:\n",
    "        for j in i:\n",
    "            coom.append(j)\n",
    "    print('task 2 over')\n",
    "    return coom"
   ]
  },
  {
   "cell_type": "code",
   "execution_count": 42,
   "metadata": {},
   "outputs": [],
   "source": [
    "def plot_cloud(stop, arr):\n",
    "    das = ' '\n",
    "    sten = das.join(arr)\n",
    "    \n",
    "    cloud = WordCloud(width = 3000, height = 2000, random_state=1, background_color='salmon',\n",
    "                          colormap='Pastel1', collocations=False, stopwords = stop)\n",
    "    cloud.generate(sten)\n",
    "    \n",
    "    print('GENERATED')\n",
    "    \n",
    "    plt.figure(figsize=(17,8))\n",
    "    plt.axis('off')\n",
    "    plt.imshow(cloud)\n",
    "\n",
    "    return sten\n",
    "    "
   ]
  },
  {
   "cell_type": "code",
   "execution_count": 43,
   "metadata": {},
   "outputs": [],
   "source": [
    "def master_plot(array):\n",
    "    trash,wordz = correct_notxt(array)\n",
    "    real_wordz = combine_array(wordz)\n",
    "    plot_cloud(STOPWORDS,real_wordz )\n"
   ]
  },
  {
   "cell_type": "code",
   "execution_count": 87,
   "metadata": {},
   "outputs": [],
   "source": [
    "def acc(y1,y2):\n",
    "    new = []\n",
    "    for j in y1:\n",
    "        if j >=0.5:\n",
    "            new.append(1)\n",
    "        else:\n",
    "            new.append(0)\n",
    "    call = 0\n",
    "    for i,val in enumerate(ytest):\n",
    "        if val==new[i]:\n",
    "            call = call+1\n",
    "            \n",
    "    return call/len(y1)\n",
    "        "
   ]
  },
  {
   "cell_type": "code",
   "execution_count": 44,
   "metadata": {},
   "outputs": [],
   "source": [
    "#texx_1 = text_1[:20]\n",
    "#texx_0 = text_0[:20]"
   ]
  },
  {
   "cell_type": "code",
   "execution_count": 45,
   "metadata": {},
   "outputs": [],
   "source": [
    "#master_plot(texx_1)"
   ]
  },
  {
   "cell_type": "code",
   "execution_count": 46,
   "metadata": {},
   "outputs": [],
   "source": [
    "#master_plot(texx_0)"
   ]
  },
  {
   "cell_type": "code",
   "execution_count": 47,
   "metadata": {
    "scrolled": true
   },
   "outputs": [],
   "source": [
    "#u,i = correct_notxt(text_1)"
   ]
  },
  {
   "cell_type": "code",
   "execution_count": 48,
   "metadata": {},
   "outputs": [],
   "source": [
    "#nonspell= i"
   ]
  },
  {
   "cell_type": "code",
   "execution_count": 49,
   "metadata": {
    "scrolled": false
   },
   "outputs": [],
   "source": [
    "#master_plot(text_1)"
   ]
  },
  {
   "cell_type": "code",
   "execution_count": 50,
   "metadata": {
    "scrolled": false
   },
   "outputs": [],
   "source": [
    "#master_plot(text_0)"
   ]
  },
  {
   "cell_type": "code",
   "execution_count": null,
   "metadata": {},
   "outputs": [],
   "source": []
  },
  {
   "cell_type": "code",
   "execution_count": 51,
   "metadata": {
    "scrolled": false
   },
   "outputs": [
    {
     "name": "stdout",
     "output_type": "stream",
     "text": [
      "100000/1600000\n",
      "200000/1600000\n",
      "300000/1600000\n",
      "400000/1600000\n",
      "500000/1600000\n",
      "600000/1600000\n",
      "700000/1600000\n",
      "800000/1600000\n",
      "900000/1600000\n",
      "1000000/1600000\n",
      "1100000/1600000\n",
      "1200000/1600000\n",
      "1300000/1600000\n",
      "1400000/1600000\n",
      "1500000/1600000\n",
      "1600000/1600000\n"
     ]
    }
   ],
   "source": [
    "noval , X_2 = correct_notxt(X_1)"
   ]
  },
  {
   "cell_type": "code",
   "execution_count": 52,
   "metadata": {},
   "outputs": [],
   "source": [
    "cc = []\n",
    "for i,val in enumerate(X_2):\n",
    "    if len(val) == 0:\n",
    "        cc.append(i)"
   ]
  },
  {
   "cell_type": "code",
   "execution_count": 53,
   "metadata": {},
   "outputs": [
    {
     "data": {
      "text/plain": [
       "[671,\n",
       " 1050,\n",
       " 1312,\n",
       " 1387,\n",
       " 1701,\n",
       " 1936,\n",
       " 2832,\n",
       " 3064,\n",
       " 3182,\n",
       " 3296,\n",
       " 3543,\n",
       " 3707,\n",
       " 4006,\n",
       " 5054,\n",
       " 6177,\n",
       " 6489,\n",
       " 6632,\n",
       " 6957,\n",
       " 7990,\n",
       " 8228,\n",
       " 8345,\n",
       " 8588,\n",
       " 8640,\n",
       " 9546,\n",
       " 9817,\n",
       " 11070,\n",
       " 11784,\n",
       " 12734,\n",
       " 13142,\n",
       " 13188,\n",
       " 14662,\n",
       " 16298,\n",
       " 18161,\n",
       " 19000,\n",
       " 19120,\n",
       " 19639,\n",
       " 20070,\n",
       " 20368,\n",
       " 21164,\n",
       " 21196,\n",
       " 21257,\n",
       " 22362,\n",
       " 22681,\n",
       " 22763,\n",
       " 23828,\n",
       " 24396,\n",
       " 25473,\n",
       " 26343,\n",
       " 28716,\n",
       " 28860,\n",
       " 29075,\n",
       " 29371,\n",
       " 29450,\n",
       " 29614,\n",
       " 33594,\n",
       " 34356,\n",
       " 34840,\n",
       " 35218,\n",
       " 35755,\n",
       " 36371,\n",
       " 36808,\n",
       " 38373,\n",
       " 39517,\n",
       " 40065,\n",
       " 40725,\n",
       " 41991,\n",
       " 42158,\n",
       " 42359,\n",
       " 43040,\n",
       " 44252,\n",
       " 45183,\n",
       " 45280,\n",
       " 45384,\n",
       " 46186,\n",
       " 46657,\n",
       " 47527,\n",
       " 47888,\n",
       " 47953,\n",
       " 48446,\n",
       " 48650,\n",
       " 49030,\n",
       " 49329,\n",
       " 49604,\n",
       " 50422,\n",
       " 50959,\n",
       " 51180,\n",
       " 51743,\n",
       " 52489,\n",
       " 52619,\n",
       " 52840,\n",
       " 54719,\n",
       " 56945,\n",
       " 57268,\n",
       " 58953,\n",
       " 59004,\n",
       " 59896,\n",
       " 60167,\n",
       " 60773,\n",
       " 60849,\n",
       " 61490,\n",
       " 61712,\n",
       " 61965,\n",
       " 62295,\n",
       " 62833,\n",
       " 67100,\n",
       " 67752,\n",
       " 68039,\n",
       " 68045,\n",
       " 68168,\n",
       " 68199,\n",
       " 69451,\n",
       " 69833,\n",
       " 72083,\n",
       " 72442,\n",
       " 72472,\n",
       " 72878,\n",
       " 73411,\n",
       " 74583,\n",
       " 74848,\n",
       " 75437,\n",
       " 76937,\n",
       " 77028,\n",
       " 77303,\n",
       " 77368,\n",
       " 78440,\n",
       " 78910,\n",
       " 79206,\n",
       " 80100,\n",
       " 80661,\n",
       " 81159,\n",
       " 81428,\n",
       " 81724,\n",
       " 81793,\n",
       " 82228,\n",
       " 83443,\n",
       " 83536,\n",
       " 84464,\n",
       " 84487,\n",
       " 84571,\n",
       " 84658,\n",
       " 84733,\n",
       " 85156,\n",
       " 85286,\n",
       " 85313,\n",
       " 85390,\n",
       " 85403,\n",
       " 85767,\n",
       " 86127,\n",
       " 86724,\n",
       " 87329,\n",
       " 88406,\n",
       " 88913,\n",
       " 89442,\n",
       " 91077,\n",
       " 91138,\n",
       " 91964,\n",
       " 92086,\n",
       " 92260,\n",
       " 92933,\n",
       " 93659,\n",
       " 94393,\n",
       " 94486,\n",
       " 94574,\n",
       " 94668,\n",
       " 95486,\n",
       " 96231,\n",
       " 96643,\n",
       " 96954,\n",
       " 97575,\n",
       " 98259,\n",
       " 98365,\n",
       " 98865,\n",
       " 98892,\n",
       " 99190,\n",
       " 99432,\n",
       " 100213,\n",
       " 100648,\n",
       " 101542,\n",
       " 101654,\n",
       " 101744,\n",
       " 101915,\n",
       " 102100,\n",
       " 102785,\n",
       " 103716,\n",
       " 103785,\n",
       " 104694,\n",
       " 104715,\n",
       " 104804,\n",
       " 105866,\n",
       " 105989,\n",
       " 106476,\n",
       " 106868,\n",
       " 107962,\n",
       " 109043,\n",
       " 109941,\n",
       " 110299,\n",
       " 111447,\n",
       " 112884,\n",
       " 113523,\n",
       " 113808,\n",
       " 113846,\n",
       " 113883,\n",
       " 115185,\n",
       " 115440,\n",
       " 116228,\n",
       " 116688,\n",
       " 116850,\n",
       " 117183,\n",
       " 118616,\n",
       " 118866,\n",
       " 119247,\n",
       " 120037,\n",
       " 120150,\n",
       " 120398,\n",
       " 121491,\n",
       " 121746,\n",
       " 122132,\n",
       " 122275,\n",
       " 122886,\n",
       " 123436,\n",
       " 123825,\n",
       " 125147,\n",
       " 125502,\n",
       " 126011,\n",
       " 126526,\n",
       " 127307,\n",
       " 129255,\n",
       " 129630,\n",
       " 129801,\n",
       " 133240,\n",
       " 133634,\n",
       " 133706,\n",
       " 134713,\n",
       " 135122,\n",
       " 135457,\n",
       " 136037,\n",
       " 136130,\n",
       " 136676,\n",
       " 138972,\n",
       " 139423,\n",
       " 140191,\n",
       " 140970,\n",
       " 142046,\n",
       " 144629,\n",
       " 145168,\n",
       " 145294,\n",
       " 145570,\n",
       " 145915,\n",
       " 146173,\n",
       " 147367,\n",
       " 148318,\n",
       " 148353,\n",
       " 148822,\n",
       " 149919,\n",
       " 150059,\n",
       " 150142,\n",
       " 150646,\n",
       " 150728,\n",
       " 151116,\n",
       " 152263,\n",
       " 153307,\n",
       " 153526,\n",
       " 154772,\n",
       " 156256,\n",
       " 156552,\n",
       " 156648,\n",
       " 156660,\n",
       " 156930,\n",
       " 157017,\n",
       " 157196,\n",
       " 157361,\n",
       " 157406,\n",
       " 157416,\n",
       " 157478,\n",
       " 157575,\n",
       " 157641,\n",
       " 157803,\n",
       " 158120,\n",
       " 158537,\n",
       " 158684,\n",
       " 159449,\n",
       " 159630,\n",
       " 160594,\n",
       " 160822,\n",
       " 160902,\n",
       " 161038,\n",
       " 161332,\n",
       " 161585,\n",
       " 163391,\n",
       " 163748,\n",
       " 165233,\n",
       " 165493,\n",
       " 165628,\n",
       " 165868,\n",
       " 165985,\n",
       " 166210,\n",
       " 166731,\n",
       " 166927,\n",
       " 167179,\n",
       " 167333,\n",
       " 167458,\n",
       " 168152,\n",
       " 168648,\n",
       " 168737,\n",
       " 168754,\n",
       " 169988,\n",
       " 170371,\n",
       " 170825,\n",
       " 172185,\n",
       " 174479,\n",
       " 175481,\n",
       " 176953,\n",
       " 177599,\n",
       " 178435,\n",
       " 179281,\n",
       " 179374,\n",
       " 180045,\n",
       " 180781,\n",
       " 182836,\n",
       " 183059,\n",
       " 183080,\n",
       " 183532,\n",
       " 183883,\n",
       " 184013,\n",
       " 184098,\n",
       " 184205,\n",
       " 185145,\n",
       " 185157,\n",
       " 185383,\n",
       " 186345,\n",
       " 186464,\n",
       " 187097,\n",
       " 187267,\n",
       " 187351,\n",
       " 187485,\n",
       " 187719,\n",
       " 187735,\n",
       " 188503,\n",
       " 189284,\n",
       " 189727,\n",
       " 190169,\n",
       " 190233,\n",
       " 192304,\n",
       " 192474,\n",
       " 192939,\n",
       " 193398,\n",
       " 195384,\n",
       " 195653,\n",
       " 196347,\n",
       " 196636,\n",
       " 196700,\n",
       " 196740,\n",
       " 197248,\n",
       " 197271,\n",
       " 197463,\n",
       " 197675,\n",
       " 198056,\n",
       " 199239,\n",
       " 199667,\n",
       " 199986,\n",
       " 200368,\n",
       " 200821,\n",
       " 201081,\n",
       " 201230,\n",
       " 201938,\n",
       " 202038,\n",
       " 202698,\n",
       " 202765,\n",
       " 203226,\n",
       " 203584,\n",
       " 203901,\n",
       " 204855,\n",
       " 205116,\n",
       " 205237,\n",
       " 205445,\n",
       " 206119,\n",
       " 206706,\n",
       " 206750,\n",
       " 206774,\n",
       " 207447,\n",
       " 207662,\n",
       " 208892,\n",
       " 209387,\n",
       " 209627,\n",
       " 210466,\n",
       " 210516,\n",
       " 210941,\n",
       " 211283,\n",
       " 211554,\n",
       " 212887,\n",
       " 213385,\n",
       " 213596,\n",
       " 214197,\n",
       " 215063,\n",
       " 218398,\n",
       " 219763,\n",
       " 221899,\n",
       " 223527,\n",
       " 223644,\n",
       " 223828,\n",
       " 223929,\n",
       " 224011,\n",
       " 224336,\n",
       " 224404,\n",
       " 224419,\n",
       " 224631,\n",
       " 225791,\n",
       " 226946,\n",
       " 227023,\n",
       " 228001,\n",
       " 228937,\n",
       " 229205,\n",
       " 229375,\n",
       " 229617,\n",
       " 230538,\n",
       " 230734,\n",
       " 230926,\n",
       " 231262,\n",
       " 231504,\n",
       " 232051,\n",
       " 232134,\n",
       " 232226,\n",
       " 232293,\n",
       " 232633,\n",
       " 232889,\n",
       " 233683,\n",
       " 233807,\n",
       " 234188,\n",
       " 234689,\n",
       " 235345,\n",
       " 236795,\n",
       " 237073,\n",
       " 237796,\n",
       " 237879,\n",
       " 238172,\n",
       " 238510,\n",
       " 239316,\n",
       " 239508,\n",
       " 239862,\n",
       " 240025,\n",
       " 240669,\n",
       " 242191,\n",
       " 242892,\n",
       " 242907,\n",
       " 243819,\n",
       " 244985,\n",
       " 245332,\n",
       " 245863,\n",
       " 246923,\n",
       " 247904,\n",
       " 248211,\n",
       " 248690,\n",
       " 250469,\n",
       " 251079,\n",
       " 251192,\n",
       " 251240,\n",
       " 251467,\n",
       " 251528,\n",
       " 251948,\n",
       " 252163,\n",
       " 252225,\n",
       " 254185,\n",
       " 254650,\n",
       " 255155,\n",
       " 255472,\n",
       " 256496,\n",
       " 257394,\n",
       " 257450,\n",
       " 257750,\n",
       " 258091,\n",
       " 258312,\n",
       " 258653,\n",
       " 259114,\n",
       " 259367,\n",
       " 259990,\n",
       " 260203,\n",
       " 260575,\n",
       " 261894,\n",
       " 261963,\n",
       " 263492,\n",
       " 266305,\n",
       " 266417,\n",
       " 266555,\n",
       " 266871,\n",
       " 268317,\n",
       " 269623,\n",
       " 270070,\n",
       " 271941,\n",
       " 272298,\n",
       " 272786,\n",
       " 273243,\n",
       " 274054,\n",
       " 275084,\n",
       " 276493,\n",
       " 276984,\n",
       " 276998,\n",
       " 277015,\n",
       " 277756,\n",
       " 277948,\n",
       " 278228,\n",
       " 278337,\n",
       " 278510,\n",
       " 279438,\n",
       " 279735,\n",
       " 281339,\n",
       " 281710,\n",
       " 282296,\n",
       " 282649,\n",
       " 283649,\n",
       " 283753,\n",
       " 284322,\n",
       " 284751,\n",
       " 284828,\n",
       " 286148,\n",
       " 286201,\n",
       " 288160,\n",
       " 288334,\n",
       " 288960,\n",
       " 288967,\n",
       " 289158,\n",
       " 289697,\n",
       " 289838,\n",
       " 290614,\n",
       " 291060,\n",
       " 291177,\n",
       " 291179,\n",
       " 291307,\n",
       " 292633,\n",
       " 292836,\n",
       " 292853,\n",
       " 293926,\n",
       " 295091,\n",
       " 295721,\n",
       " 296114,\n",
       " 298252,\n",
       " 299129,\n",
       " 301238,\n",
       " 301362,\n",
       " 301813,\n",
       " 302197,\n",
       " 302746,\n",
       " 302935,\n",
       " 303059,\n",
       " 303548,\n",
       " 303680,\n",
       " 304564,\n",
       " 304805,\n",
       " 305167,\n",
       " 306408,\n",
       " 307272,\n",
       " 307324,\n",
       " 307585,\n",
       " 307974,\n",
       " 308138,\n",
       " 308500,\n",
       " 308517,\n",
       " 308993,\n",
       " 309816,\n",
       " 310222,\n",
       " 311920,\n",
       " 312449,\n",
       " 312591,\n",
       " 312739,\n",
       " 312806,\n",
       " 314027,\n",
       " 314455,\n",
       " 314589,\n",
       " 315013,\n",
       " 315353,\n",
       " 315464,\n",
       " 315496,\n",
       " 315842,\n",
       " 316299,\n",
       " 316545,\n",
       " 316620,\n",
       " 317273,\n",
       " 317411,\n",
       " 317792,\n",
       " 317876,\n",
       " 318633,\n",
       " 319266,\n",
       " 319287,\n",
       " 321221,\n",
       " 322262,\n",
       " 322529,\n",
       " 323130,\n",
       " 323969,\n",
       " 324030,\n",
       " 324148,\n",
       " 324292,\n",
       " 324571,\n",
       " 324813,\n",
       " 325565,\n",
       " 325600,\n",
       " 325761,\n",
       " 326612,\n",
       " 326993,\n",
       " 327089,\n",
       " 328720,\n",
       " 329249,\n",
       " 329320,\n",
       " 329418,\n",
       " 330072,\n",
       " 330085,\n",
       " 331428,\n",
       " 331640,\n",
       " 331935,\n",
       " 332051,\n",
       " 332779,\n",
       " 333041,\n",
       " 333358,\n",
       " 334026,\n",
       " 334357,\n",
       " 334459,\n",
       " 334665,\n",
       " 334883,\n",
       " 337145,\n",
       " 339297,\n",
       " 339813,\n",
       " 341204,\n",
       " 343235,\n",
       " 343713,\n",
       " 345641,\n",
       " 345941,\n",
       " 346998,\n",
       " 347780,\n",
       " 348324,\n",
       " 348911,\n",
       " 349306,\n",
       " 349577,\n",
       " 349632,\n",
       " 349945,\n",
       " 350059,\n",
       " 352137,\n",
       " 352196,\n",
       " 352318,\n",
       " 352472,\n",
       " 352998,\n",
       " 353485,\n",
       " 353622,\n",
       " 354411,\n",
       " 354415,\n",
       " 354685,\n",
       " 354923,\n",
       " 355230,\n",
       " 356629,\n",
       " 357520,\n",
       " 357719,\n",
       " 359509,\n",
       " 359766,\n",
       " 360504,\n",
       " 360700,\n",
       " 361575,\n",
       " 362664,\n",
       " 363457,\n",
       " 364011,\n",
       " 364208,\n",
       " 364788,\n",
       " 365244,\n",
       " 365743,\n",
       " 366219,\n",
       " 366612,\n",
       " 366809,\n",
       " 367007,\n",
       " 367081,\n",
       " 367096,\n",
       " 367337,\n",
       " 368241,\n",
       " 369135,\n",
       " 369931,\n",
       " 370149,\n",
       " 370793,\n",
       " 370976,\n",
       " 371268,\n",
       " 371444,\n",
       " 372509,\n",
       " 372632,\n",
       " 373309,\n",
       " 374017,\n",
       " 374204,\n",
       " 374993,\n",
       " 375024,\n",
       " 375516,\n",
       " 376821,\n",
       " 377655,\n",
       " 377749,\n",
       " 378972,\n",
       " 380066,\n",
       " 380230,\n",
       " 381300,\n",
       " 381483,\n",
       " 381684,\n",
       " 382152,\n",
       " 382501,\n",
       " 383782,\n",
       " 384665,\n",
       " 385064,\n",
       " 386026,\n",
       " 386364,\n",
       " 387092,\n",
       " 388796,\n",
       " 389423,\n",
       " 390722,\n",
       " 391361,\n",
       " 391364,\n",
       " 391585,\n",
       " 391628,\n",
       " 392005,\n",
       " 392133,\n",
       " 392251,\n",
       " 392394,\n",
       " 392493,\n",
       " 392710,\n",
       " 392903,\n",
       " 393105,\n",
       " 393777,\n",
       " 393979,\n",
       " 393982,\n",
       " 394444,\n",
       " 394537,\n",
       " 396130,\n",
       " 396151,\n",
       " 396696,\n",
       " 397041,\n",
       " 397996,\n",
       " 398129,\n",
       " 398348,\n",
       " 398400,\n",
       " 401955,\n",
       " 402626,\n",
       " 403015,\n",
       " 403630,\n",
       " 404967,\n",
       " 405521,\n",
       " 405807,\n",
       " 406129,\n",
       " 407643,\n",
       " 407702,\n",
       " 407792,\n",
       " 407899,\n",
       " 408989,\n",
       " 409506,\n",
       " 409746,\n",
       " 410020,\n",
       " 410422,\n",
       " 410487,\n",
       " 410946,\n",
       " 411135,\n",
       " 412075,\n",
       " 412635,\n",
       " 413679,\n",
       " 413755,\n",
       " 414178,\n",
       " 414857,\n",
       " 415078,\n",
       " 415862,\n",
       " 416214,\n",
       " 416574,\n",
       " 416878,\n",
       " 417672,\n",
       " 418759,\n",
       " 418881,\n",
       " 419053,\n",
       " 419311,\n",
       " 419990,\n",
       " 420328,\n",
       " 420714,\n",
       " 421220,\n",
       " 421907,\n",
       " 422012,\n",
       " 422135,\n",
       " 423144,\n",
       " 423164,\n",
       " 424789,\n",
       " 426137,\n",
       " 426244,\n",
       " 426496,\n",
       " 427092,\n",
       " 427152,\n",
       " 427689,\n",
       " 428458,\n",
       " 428976,\n",
       " 429079,\n",
       " 430023,\n",
       " 430624,\n",
       " 431381,\n",
       " 431787,\n",
       " 432329,\n",
       " 433412,\n",
       " 433995,\n",
       " 434269,\n",
       " 434276,\n",
       " 435772,\n",
       " 435907,\n",
       " 436060,\n",
       " 436445,\n",
       " 436981,\n",
       " 438060,\n",
       " 438532,\n",
       " 439035,\n",
       " 439210,\n",
       " 439359,\n",
       " 440312,\n",
       " 440338,\n",
       " 442467,\n",
       " 442715,\n",
       " 443020,\n",
       " 443426,\n",
       " 443682,\n",
       " 444555,\n",
       " 445225,\n",
       " 446016,\n",
       " 447497,\n",
       " 447875,\n",
       " 448328,\n",
       " 448831,\n",
       " 450350,\n",
       " 450549,\n",
       " 451358,\n",
       " 451679,\n",
       " 451817,\n",
       " 452106,\n",
       " 452124,\n",
       " 452384,\n",
       " 452708,\n",
       " 453585,\n",
       " 454541,\n",
       " 456035,\n",
       " 456388,\n",
       " 457802,\n",
       " 457941,\n",
       " 458231,\n",
       " 458742,\n",
       " 459174,\n",
       " 460187,\n",
       " 460639,\n",
       " 460887,\n",
       " 461253,\n",
       " 462129,\n",
       " 462250,\n",
       " 462817,\n",
       " 463644,\n",
       " 464037,\n",
       " 465371,\n",
       " 465613,\n",
       " 467017,\n",
       " 467353,\n",
       " 468075,\n",
       " 469394,\n",
       " 469732,\n",
       " 471266,\n",
       " 471802,\n",
       " 471950,\n",
       " 472015,\n",
       " 472226,\n",
       " 472510,\n",
       " 472518,\n",
       " 473398,\n",
       " 474384,\n",
       " 474389,\n",
       " 475111,\n",
       " 475401,\n",
       " 476231,\n",
       " 477692,\n",
       " 478248,\n",
       " 479032,\n",
       " 479768,\n",
       " 480183,\n",
       " 481271,\n",
       " 482350,\n",
       " 482409,\n",
       " 482460,\n",
       " 482513,\n",
       " 482554,\n",
       " 485044,\n",
       " 486604,\n",
       " 486706,\n",
       " 489656,\n",
       " 489900,\n",
       " 490115,\n",
       " 490620,\n",
       " 492958,\n",
       " 493609,\n",
       " 494675,\n",
       " 495155,\n",
       " 495577,\n",
       " 496006,\n",
       " 496653,\n",
       " 496822,\n",
       " 497236,\n",
       " 497999,\n",
       " 498278,\n",
       " 498459,\n",
       " 498964,\n",
       " 499774,\n",
       " 500325,\n",
       " 500931,\n",
       " 501189,\n",
       " 501204,\n",
       " 501258,\n",
       " 502099,\n",
       " 502325,\n",
       " 502448,\n",
       " 502965,\n",
       " 502981,\n",
       " 503055,\n",
       " 503717,\n",
       " 503745,\n",
       " 504263,\n",
       " 504298,\n",
       " 504334,\n",
       " 505239,\n",
       " 505243,\n",
       " 505418,\n",
       " 505781,\n",
       " 506760,\n",
       " 507660,\n",
       " 507854,\n",
       " 508762,\n",
       " 509598,\n",
       " 510055,\n",
       " 511400,\n",
       " 511769,\n",
       " 513419,\n",
       " 513528,\n",
       " 514174,\n",
       " 515123,\n",
       " 515997,\n",
       " 517177,\n",
       " 517475,\n",
       " 519021,\n",
       " 519634,\n",
       " 519683,\n",
       " 519985,\n",
       " 521281,\n",
       " 521332,\n",
       " 521956,\n",
       " 522471,\n",
       " 522675,\n",
       " 523268,\n",
       " 524418,\n",
       " 524767,\n",
       " 525849,\n",
       " 526445,\n",
       " 526924,\n",
       " 527046,\n",
       " 527063,\n",
       " 527858,\n",
       " 527934,\n",
       " 528002,\n",
       " 528481,\n",
       " 529680,\n",
       " 530432,\n",
       " 530705,\n",
       " 530779,\n",
       " 531156,\n",
       " 531934,\n",
       " 532423,\n",
       " 532637,\n",
       " 533126,\n",
       " 534288,\n",
       " 534337,\n",
       " 534550,\n",
       " 535722,\n",
       " 536373,\n",
       " 536755,\n",
       " 537117,\n",
       " 538244,\n",
       " 539856,\n",
       " 540193,\n",
       " 541476,\n",
       " 541523,\n",
       " 541859,\n",
       " 541980,\n",
       " 543406,\n",
       " 544924,\n",
       " 545072,\n",
       " 545885,\n",
       " 546632,\n",
       " 548177,\n",
       " 548675,\n",
       " 550430,\n",
       " 551200,\n",
       " 551811,\n",
       " 553691,\n",
       " 553760,\n",
       " 553929,\n",
       " 554191,\n",
       " 555334,\n",
       " 555658,\n",
       " 555806,\n",
       " 556428,\n",
       " 556829,\n",
       " 557783,\n",
       " 559351,\n",
       " 560477,\n",
       " 561390,\n",
       " 561581,\n",
       " 563058,\n",
       " 563074,\n",
       " ...]"
      ]
     },
     "execution_count": 53,
     "metadata": {},
     "output_type": "execute_result"
    }
   ],
   "source": [
    "cc"
   ]
  },
  {
   "cell_type": "code",
   "execution_count": 54,
   "metadata": {},
   "outputs": [],
   "source": [
    "rmove = np.array(X_1)[cc]"
   ]
  },
  {
   "cell_type": "code",
   "execution_count": 55,
   "metadata": {},
   "outputs": [],
   "source": [
    "X_2 = np.delete(X_2, cc)\n",
    "y = np.delete(y, cc)"
   ]
  },
  {
   "cell_type": "code",
   "execution_count": null,
   "metadata": {},
   "outputs": [],
   "source": []
  },
  {
   "cell_type": "code",
   "execution_count": 56,
   "metadata": {},
   "outputs": [
    {
     "data": {
      "text/plain": [
       "1597258"
      ]
     },
     "execution_count": 56,
     "metadata": {},
     "output_type": "execute_result"
    }
   ],
   "source": [
    "len(X_2)"
   ]
  },
  {
   "cell_type": "code",
   "execution_count": 57,
   "metadata": {},
   "outputs": [
    {
     "data": {
      "text/plain": [
       "1597258"
      ]
     },
     "execution_count": 57,
     "metadata": {},
     "output_type": "execute_result"
    }
   ],
   "source": [
    "len(y)"
   ]
  },
  {
   "cell_type": "code",
   "execution_count": 58,
   "metadata": {},
   "outputs": [],
   "source": [
    "tst_size = 100000\n",
    "X_test = X_2[-tst_size:]\n",
    "y_test = y[-tst_size:]\n",
    "X_train = X_2[:len(X_2)-tst_size]\n",
    "y_train = y[:len(y)-tst_size]"
   ]
  },
  {
   "cell_type": "code",
   "execution_count": null,
   "metadata": {},
   "outputs": [],
   "source": []
  },
  {
   "cell_type": "code",
   "execution_count": 59,
   "metadata": {},
   "outputs": [],
   "source": [
    "inn = tf.keras.preprocessing.text.Tokenizer(num_words = 60000)"
   ]
  },
  {
   "cell_type": "code",
   "execution_count": 60,
   "metadata": {},
   "outputs": [],
   "source": [
    "inn.fit_on_texts(X_train)"
   ]
  },
  {
   "cell_type": "code",
   "execution_count": 61,
   "metadata": {},
   "outputs": [],
   "source": [
    "pp = inn.word_index.items()"
   ]
  },
  {
   "cell_type": "code",
   "execution_count": 62,
   "metadata": {},
   "outputs": [],
   "source": [
    "X_train = inn.texts_to_sequences(X_train)"
   ]
  },
  {
   "cell_type": "code",
   "execution_count": 63,
   "metadata": {},
   "outputs": [],
   "source": [
    "X_test = inn.texts_to_sequences(X_test)"
   ]
  },
  {
   "cell_type": "code",
   "execution_count": 64,
   "metadata": {},
   "outputs": [],
   "source": [
    "pad_sequences = tf.keras.preprocessing.sequence.pad_sequences"
   ]
  },
  {
   "cell_type": "code",
   "execution_count": 65,
   "metadata": {},
   "outputs": [],
   "source": [
    "X_pad_tr = pad_sequences(X_train , maxlen = 57)\n",
    "X_pad_ts = pad_sequences(X_test , maxlen = 57)"
   ]
  },
  {
   "cell_type": "code",
   "execution_count": 66,
   "metadata": {},
   "outputs": [
    {
     "data": {
      "text/plain": [
       "(1497258, 57)"
      ]
     },
     "execution_count": 66,
     "metadata": {},
     "output_type": "execute_result"
    }
   ],
   "source": [
    "X_pad_tr.shape"
   ]
  },
  {
   "cell_type": "code",
   "execution_count": 67,
   "metadata": {},
   "outputs": [],
   "source": [
    "tr=[]\n",
    "ts=[]\n",
    "for i,val in enumerate(X_train):\n",
    "    if len(val)==0:\n",
    "        tr.append(i)\n",
    "for j,xa in enumerate(X_test):\n",
    "    if len(xa)==0:\n",
    "        ts.append(j)"
   ]
  },
  {
   "cell_type": "code",
   "execution_count": 68,
   "metadata": {},
   "outputs": [],
   "source": [
    "X_pad_tr = np.array(X_pad_tr)\n",
    "X_pad_ts = np.array(X_pad_ts)"
   ]
  },
  {
   "cell_type": "code",
   "execution_count": 69,
   "metadata": {},
   "outputs": [],
   "source": [
    "X_pad_tr= np.delete(X_pad_tr, tr,0)\n",
    "X_pad_ts= np.delete(X_pad_ts, ts,0)"
   ]
  },
  {
   "cell_type": "code",
   "execution_count": 70,
   "metadata": {},
   "outputs": [],
   "source": [
    "y_train = np.delete(y_train, tr)\n",
    "y_test = np.delete(y_test, ts)"
   ]
  },
  {
   "cell_type": "code",
   "execution_count": 71,
   "metadata": {},
   "outputs": [
    {
     "name": "stdout",
     "output_type": "stream",
     "text": [
      "x train = (1493300, 57), y_train = (1493300,) , x_test = (99735, 57), y_test = (99735,)\n"
     ]
    }
   ],
   "source": [
    "print('x train = {}, y_train = {} , x_test = {}, y_test = {}'.format(X_pad_tr.shape, y_train.shape,X_pad_ts.shape, y_test.shape ))"
   ]
  },
  {
   "cell_type": "code",
   "execution_count": 8,
   "metadata": {},
   "outputs": [],
   "source": [
    "import pickle"
   ]
  },
  {
   "cell_type": "code",
   "execution_count": 73,
   "metadata": {},
   "outputs": [],
   "source": [
    "with open ('xtrain.pickle','w+b') as f:\n",
    "    pickle.dump(X_pad_tr, f)"
   ]
  },
  {
   "cell_type": "code",
   "execution_count": 74,
   "metadata": {},
   "outputs": [],
   "source": [
    "with open ('ytrain.pickle','w+b') as f:\n",
    "    pickle.dump(y_train, f)"
   ]
  },
  {
   "cell_type": "code",
   "execution_count": 75,
   "metadata": {},
   "outputs": [],
   "source": [
    "with open ('xtest.pickle','w+b') as f:\n",
    "    pickle.dump(X_pad_ts, f)"
   ]
  },
  {
   "cell_type": "code",
   "execution_count": 76,
   "metadata": {},
   "outputs": [],
   "source": [
    "with open ('ytest.pickle','w+b') as f:\n",
    "    pickle.dump(y_test, f)"
   ]
  },
  {
   "cell_type": "code",
   "execution_count": null,
   "metadata": {},
   "outputs": [],
   "source": []
  },
  {
   "cell_type": "code",
   "execution_count": 9,
   "metadata": {},
   "outputs": [],
   "source": [
    "with open ('xtrain.pickle','r+b') as f:\n",
    "    xtrain= pickle.load( f)"
   ]
  },
  {
   "cell_type": "code",
   "execution_count": 10,
   "metadata": {},
   "outputs": [],
   "source": [
    "with open ('ytrain.pickle','r+b') as f:\n",
    "    ytrain= pickle.load( f)"
   ]
  },
  {
   "cell_type": "code",
   "execution_count": 11,
   "metadata": {},
   "outputs": [],
   "source": [
    "with open ('xtest.pickle','r+b') as f:\n",
    "    xtest= pickle.load( f)"
   ]
  },
  {
   "cell_type": "code",
   "execution_count": 12,
   "metadata": {},
   "outputs": [],
   "source": [
    "with open ('ytest.pickle','r+b') as f:\n",
    "    ytest= pickle.load( f)"
   ]
  },
  {
   "cell_type": "code",
   "execution_count": 13,
   "metadata": {},
   "outputs": [
    {
     "data": {
      "text/plain": [
       "(99735,)"
      ]
     },
     "execution_count": 13,
     "metadata": {},
     "output_type": "execute_result"
    }
   ],
   "source": [
    "ytest.shape"
   ]
  },
  {
   "cell_type": "code",
   "execution_count": 14,
   "metadata": {},
   "outputs": [
    {
     "data": {
      "text/plain": [
       "(99735, 57)"
      ]
     },
     "execution_count": 14,
     "metadata": {},
     "output_type": "execute_result"
    }
   ],
   "source": [
    "xtest.shape"
   ]
  },
  {
   "cell_type": "code",
   "execution_count": 15,
   "metadata": {},
   "outputs": [
    {
     "data": {
      "text/plain": [
       "(1493300, 57)"
      ]
     },
     "execution_count": 15,
     "metadata": {},
     "output_type": "execute_result"
    }
   ],
   "source": [
    "xtrain.shape"
   ]
  },
  {
   "cell_type": "code",
   "execution_count": 16,
   "metadata": {},
   "outputs": [
    {
     "data": {
      "text/plain": [
       "(1493300,)"
      ]
     },
     "execution_count": 16,
     "metadata": {},
     "output_type": "execute_result"
    }
   ],
   "source": [
    "ytrain.shape"
   ]
  },
  {
   "cell_type": "code",
   "execution_count": 40,
   "metadata": {},
   "outputs": [],
   "source": [
    "valsize = 300000"
   ]
  },
  {
   "cell_type": "code",
   "execution_count": 59,
   "metadata": {},
   "outputs": [],
   "source": [
    "#val = xtrain[:valsize]\n",
    "#yval = ytrain[:valsize]\n",
    "#xtrain = xtrain[valsize:]\n",
    "#ytrain = ytrain[valsize :]\n",
    "\n"
   ]
  },
  {
   "cell_type": "code",
   "execution_count": 63,
   "metadata": {},
   "outputs": [],
   "source": [
    "model = tf.keras.models.Sequential()\n",
    "model.add(tf.keras.layers.Embedding(60000, 32))\n",
    "model.add(tf.keras.layers.Bidirectional(tf.keras.layers.LSTM(64)))\n",
    "model.add(tf.keras.layers.Dense(64, activation = 'relu'))\n",
    "model.add(tf.keras.layers.Dense(1, activation = 'sigmoid'))"
   ]
  },
  {
   "cell_type": "code",
   "execution_count": 64,
   "metadata": {},
   "outputs": [],
   "source": [
    "model.compile(optimizer = 'adam', metrics=['accuracy'], loss='binary_crossentropy' )"
   ]
  },
  {
   "cell_type": "code",
   "execution_count": 65,
   "metadata": {},
   "outputs": [
    {
     "name": "stdout",
     "output_type": "stream",
     "text": [
      "Train on 1075176 samples, validate on 418124 samples\n",
      "Epoch 1/5\n",
      "1075176/1075176 [==============================] - 2148s 2ms/sample - loss: 0.4201 - accuracy: 0.8063 - val_loss: 0.3915 - val_accuracy: 0.8230\n",
      "Epoch 2/5\n",
      "1075176/1075176 [==============================] - 2251s 2ms/sample - loss: 0.3625 - accuracy: 0.8390 - val_loss: 0.3841 - val_accuracy: 0.8270\n",
      "Epoch 3/5\n",
      "1075176/1075176 [==============================] - 2345s 2ms/sample - loss: 0.3292 - accuracy: 0.8573 - val_loss: 0.3876 - val_accuracy: 0.8264\n",
      "Epoch 4/5\n",
      "1075176/1075176 [==============================] - 4206s 4ms/sample - loss: 0.2992 - accuracy: 0.8730 - val_loss: 0.4026 - val_accuracy: 0.8208\n",
      "Epoch 5/5\n",
      "1075176/1075176 [==============================] - 3665s 3ms/sample - loss: 0.2711 - accuracy: 0.8874 - val_loss: 0.4227 - val_accuracy: 0.8155\n"
     ]
    }
   ],
   "source": [
    "fitted = model.fit(xtrain, ytrain,  validation_split = 0.28, epochs = 5)"
   ]
  },
  {
   "cell_type": "code",
   "execution_count": 66,
   "metadata": {},
   "outputs": [
    {
     "name": "stdout",
     "output_type": "stream",
     "text": [
      "WARNING:tensorflow:From c:\\users\\vinayak sidharth\\appdata\\local\\programs\\python\\python37\\lib\\site-packages\\tensorflow_core\\python\\ops\\resource_variable_ops.py:1786: calling BaseResourceVariable.__init__ (from tensorflow.python.ops.resource_variable_ops) with constraint is deprecated and will be removed in a future version.\n",
      "Instructions for updating:\n",
      "If using Keras pass *_constraint arguments to layers.\n",
      "INFO:tensorflow:Assets written to: C:\\Users\\Vinayak Sidharth\\Documents\\TWITTER_HAPPINESS.model\\assets\n"
     ]
    }
   ],
   "source": [
    "model.save(r'C:\\Users\\Vinayak Sidharth\\Documents\\TWITTER_HAPPINESS.model')"
   ]
  },
  {
   "cell_type": "code",
   "execution_count": 69,
   "metadata": {},
   "outputs": [
    {
     "name": "stdout",
     "output_type": "stream",
     "text": [
      "JUST STOP ON 2 EPCOH IT IS THE BEST ONE DO IT LAST ONE YOU DO THE RETARDED ALL THE OTHER SHIT BRO\n"
     ]
    }
   ],
   "source": [
    "print('JUST STOP ON 2 EPCOH IT IS THE BEST ONE DO IT LAST ONE YOU DO THE RETARDED ALL THE OTHER SHIT BRO')"
   ]
  },
  {
   "cell_type": "code",
   "execution_count": 83,
   "metadata": {},
   "outputs": [],
   "source": [
    "pred = model.predict(xtest)"
   ]
  },
  {
   "cell_type": "code",
   "execution_count": 88,
   "metadata": {},
   "outputs": [
    {
     "data": {
      "text/plain": [
       "0.8126234521481928"
      ]
     },
     "execution_count": 88,
     "metadata": {},
     "output_type": "execute_result"
    }
   ],
   "source": [
    "acc(pred,ytest)"
   ]
  },
  {
   "cell_type": "code",
   "execution_count": 120,
   "metadata": {},
   "outputs": [],
   "source": [
    "fit = 100000"
   ]
  },
  {
   "cell_type": "code",
   "execution_count": 121,
   "metadata": {},
   "outputs": [],
   "source": [
    "model1 = tf.keras.models.Sequential()\n",
    "model1.add(tf.keras.layers.Embedding(60000, 32))\n",
    "model1.add(tf.keras.layers.Bidirectional(tf.keras.layers.LSTM(32, return_sequences = True)))\n",
    "model1.add(tf.keras.layers.Reshape((57,64,1)))\n",
    "model1.add(tf.keras.layers.Conv2D(32, kernel_size = (3,3)))\n",
    "model1.add(tf.keras.layers.MaxPooling2D(4))\n",
    "model1.add(tf.keras.layers.Conv2D(32, kernel_size = (4,4)))\n",
    "model1.add(tf.keras.layers.MaxPooling2D(3))\n",
    "model1.add(tf.keras.layers.Flatten() )\n",
    "model1.add(tf.keras.layers.Dense(100, activation = 'relu'))\n",
    "model1.add(tf.keras.layers.Dense(1, activation = 'sigmoid'))"
   ]
  },
  {
   "cell_type": "code",
   "execution_count": 122,
   "metadata": {},
   "outputs": [],
   "source": [
    "model1.compile( optimizer = 'adam', loss='binary_crossentropy',metrics=['accuracy'])"
   ]
  },
  {
   "cell_type": "code",
   "execution_count": 123,
   "metadata": {},
   "outputs": [
    {
     "name": "stdout",
     "output_type": "stream",
     "text": [
      "Train on 1194640 samples, validate on 298660 samples\n",
      "Epoch 1/3\n",
      "1194640/1194640 [==============================] - 4318s 4ms/sample - loss: 0.4224 - accuracy: 0.8053 - val_loss: 0.3952 - val_accuracy: 0.8207\n",
      "Epoch 2/3\n",
      "1194640/1194640 [==============================] - 4322s 4ms/sample - loss: 0.3685 - accuracy: 0.8363 - val_loss: 0.3881 - val_accuracy: 0.8256\n",
      "Epoch 3/3\n",
      "1194640/1194640 [==============================] - 3441s 3ms/sample - loss: 0.3400 - accuracy: 0.8518 - val_loss: 0.3917 - val_accuracy: 0.8257\n"
     ]
    },
    {
     "data": {
      "text/plain": [
       "<tensorflow.python.keras.callbacks.History at 0x28a84cc5508>"
      ]
     },
     "execution_count": 123,
     "metadata": {},
     "output_type": "execute_result"
    }
   ],
   "source": [
    "model1.fit(xtrain,ytrain,validation_split=0.2,epochs = 3 )"
   ]
  },
  {
   "cell_type": "code",
   "execution_count": null,
   "metadata": {},
   "outputs": [],
   "source": [
    "model.save(r'C:\\Users\\Vinayak Sidharth\\Documents\\TWITTER_HAPPINESS.model')"
   ]
  },
  {
   "cell_type": "code",
   "execution_count": null,
   "metadata": {},
   "outputs": [],
   "source": []
  },
  {
   "cell_type": "code",
   "execution_count": null,
   "metadata": {},
   "outputs": [],
   "source": []
  },
  {
   "cell_type": "code",
   "execution_count": null,
   "metadata": {},
   "outputs": [],
   "source": []
  },
  {
   "cell_type": "code",
   "execution_count": null,
   "metadata": {},
   "outputs": [],
   "source": []
  },
  {
   "cell_type": "code",
   "execution_count": null,
   "metadata": {},
   "outputs": [],
   "source": []
  },
  {
   "cell_type": "code",
   "execution_count": null,
   "metadata": {},
   "outputs": [],
   "source": []
  },
  {
   "cell_type": "code",
   "execution_count": 82,
   "metadata": {},
   "outputs": [],
   "source": [
    "o = tf.keras.layers.Conv2D(32, kernel_size = (3,3)) (ii)\n",
    "t = tf.keras.layers.MaxPooling2D(2)(o)\n",
    "o2 = tf.keras.layers.Conv2D(32, kernel_size = (3,3))(o)\n",
    "t2 = tf.keras.layers.MaxPooling2D(2)(o2)\n",
    "r = tf.keras.layers.Reshape((12,-1))(t2)\n",
    "l = tf.keras.layers.LSTM(200)(r)\n",
    "                           "
   ]
  },
  {
   "cell_type": "code",
   "execution_count": 83,
   "metadata": {},
   "outputs": [
    {
     "data": {
      "text/plain": [
       "<tf.Tensor: shape=(2, 200), dtype=float32, numpy=\n",
       "array([[-0.17850307, -0.04180878,  0.19274467,  0.46111742,  0.21713682,\n",
       "        -0.13148668, -0.35039666,  0.2407388 , -0.3775557 ,  0.016915  ,\n",
       "         0.23292209, -0.08115608, -0.35807097,  0.14464569, -0.10044456,\n",
       "        -0.08599912,  0.07659259,  0.18297964,  0.17320439,  0.11539391,\n",
       "         0.25767967, -0.0737422 ,  0.361597  ,  0.08898338,  0.36080888,\n",
       "         0.09674861,  0.18770443,  0.13439932,  0.11611309,  0.15281731,\n",
       "        -0.09970555, -0.1518358 ,  0.05167245, -0.3590743 , -0.37093076,\n",
       "        -0.1653896 ,  0.22919658, -0.20361447,  0.244571  , -0.1594035 ,\n",
       "         0.00979177, -0.12851354, -0.19015309,  0.10581996,  0.2849481 ,\n",
       "        -0.21584071,  0.30328158,  0.12578142,  0.37049025, -0.16072497,\n",
       "         0.47577855,  0.19156227, -0.21565427, -0.04388008, -0.34711945,\n",
       "        -0.19096184,  0.42099   , -0.02910922, -0.27494785,  0.01565453,\n",
       "         0.3126618 , -0.21356277,  0.00831184, -0.12144018, -0.36951834,\n",
       "         0.26360536, -0.20809367, -0.28265852,  0.14932111, -0.31192178,\n",
       "         0.10968419,  0.26990864, -0.09916143, -0.35486528,  0.25554565,\n",
       "         0.06895161, -0.02364915, -0.49763432, -0.3042731 ,  0.08644459,\n",
       "         0.17920598, -0.31305805,  0.2731055 , -0.47140914,  0.34112918,\n",
       "        -0.0387391 ,  0.45311016, -0.48294187, -0.3420281 , -0.2207975 ,\n",
       "         0.10294601,  0.16367698, -0.48829368,  0.2979185 , -0.2302838 ,\n",
       "         0.19413635,  0.23627126, -0.19888686, -0.09167247, -0.17092882,\n",
       "         0.2583405 , -0.24627243, -0.12423003, -0.2327063 , -0.092145  ,\n",
       "         0.17480598, -0.24049644,  0.28024277, -0.03659941,  0.39592156,\n",
       "        -0.0521757 ,  0.30625474,  0.07822394,  0.18075205,  0.1167274 ,\n",
       "         0.21737114, -0.42882478,  0.03190524,  0.24581839, -0.39213574,\n",
       "         0.19930331,  0.13403262,  0.0485271 ,  0.05633114,  0.39325303,\n",
       "         0.2776043 ,  0.3147498 , -0.29032716, -0.34241265,  0.0728458 ,\n",
       "         0.04199566,  0.2801093 , -0.12489747,  0.22393653,  0.30871773,\n",
       "         0.15238976,  0.298493  ,  0.11846111,  0.24127948,  0.03914414,\n",
       "        -0.08012538, -0.02001449,  0.2632851 , -0.29877755, -0.33032918,\n",
       "         0.09603377, -0.13644056,  0.17441677,  0.3159578 ,  0.07117013,\n",
       "         0.23922268, -0.3244494 ,  0.16314429, -0.21051314,  0.03086939,\n",
       "         0.30074254,  0.0425863 , -0.46028906, -0.33737594,  0.01522685,\n",
       "        -0.37381685,  0.04767105, -0.2903458 ,  0.12098849,  0.31990013,\n",
       "         0.54340404, -0.20700188, -0.3740722 , -0.54269063,  0.36266574,\n",
       "         0.07986597, -0.252827  ,  0.10506209, -0.01353101,  0.21158378,\n",
       "        -0.03710172, -0.39539477, -0.20535621,  0.06718042,  0.11299302,\n",
       "         0.01139759, -0.04263109, -0.23122588, -0.0711113 , -0.05615624,\n",
       "         0.30272138, -0.36663255,  0.07461733, -0.06414209, -0.11961935,\n",
       "         0.0361391 ,  0.14718953,  0.23516351, -0.50568575,  0.42294577,\n",
       "         0.33853891, -0.47186518,  0.13718425,  0.19397154, -0.16107424],\n",
       "       [-0.17522657, -0.03595075,  0.18176167,  0.41728532,  0.39923406,\n",
       "         0.04384051, -0.38349518,  0.19428204, -0.26743367, -0.00063339,\n",
       "         0.27815294, -0.09816289, -0.45697123,  0.12761334, -0.07566787,\n",
       "        -0.16313319,  0.10627651,  0.07943054,  0.31069592, -0.03121347,\n",
       "         0.25849515, -0.08532551,  0.39468038,  0.1304923 ,  0.2885583 ,\n",
       "         0.09847718,  0.2735242 ,  0.21779798,  0.1946767 ,  0.05705807,\n",
       "        -0.03498257, -0.25227323,  0.142125  , -0.37410614, -0.1713673 ,\n",
       "         0.14266348,  0.02049241, -0.23341638,  0.15405661, -0.24448031,\n",
       "         0.13749705, -0.2179567 , -0.23535801,  0.05690358,  0.20748547,\n",
       "        -0.184865  ,  0.22987832,  0.05326041,  0.22636268, -0.07209119,\n",
       "         0.57508737,  0.23922123, -0.20406188, -0.03915625, -0.3557302 ,\n",
       "        -0.11420046,  0.3426976 ,  0.20568898, -0.2916419 , -0.17148945,\n",
       "         0.15699306, -0.09132326,  0.0571244 , -0.05584588, -0.3294469 ,\n",
       "         0.1304451 , -0.20020482, -0.13022046,  0.26715735, -0.35232085,\n",
       "         0.10700141,  0.21416707, -0.15433696, -0.40796927,  0.26419938,\n",
       "         0.1420439 , -0.06432651, -0.4728832 , -0.2635122 ,  0.02391042,\n",
       "         0.07525936, -0.22668438,  0.17621185, -0.5079506 ,  0.23403978,\n",
       "        -0.09184939,  0.42559263, -0.42538944, -0.32532144, -0.33212033,\n",
       "         0.07483945,  0.16108467, -0.5013848 ,  0.32163477, -0.23727068,\n",
       "         0.24102743,  0.12781252, -0.00058847, -0.0521404 , -0.20048901,\n",
       "         0.19769122, -0.01407835,  0.09369271, -0.10163619, -0.1146311 ,\n",
       "         0.09855238, -0.38819155,  0.27702856,  0.07365555,  0.11990125,\n",
       "        -0.03405559,  0.39930233,  0.24991852,  0.16310483,  0.12924021,\n",
       "         0.13992675, -0.4344622 , -0.08554772,  0.29243195, -0.3157567 ,\n",
       "         0.26956898,  0.14813131,  0.08713466,  0.00259956,  0.39349055,\n",
       "         0.05849627,  0.28433704, -0.20204642, -0.37801838,  0.03908484,\n",
       "        -0.09052812,  0.3221218 , -0.12363583,  0.13659614,  0.29618287,\n",
       "         0.21734415,  0.18847899,  0.09259986,  0.2448873 , -0.07668708,\n",
       "         0.0482168 , -0.16798508,  0.25562525, -0.33149415, -0.36388996,\n",
       "         0.06417667, -0.04071204,  0.13678578,  0.313992  ,  0.06365379,\n",
       "         0.22564939, -0.11577787,  0.18257189, -0.11877872,  0.1308721 ,\n",
       "         0.31003854,  0.00201707, -0.45063043, -0.31938463, -0.10743578,\n",
       "        -0.3011026 ,  0.03781445, -0.21635441,  0.15761757,  0.50393766,\n",
       "         0.58356494, -0.17370607, -0.3154703 , -0.36378175,  0.3541617 ,\n",
       "        -0.15682544, -0.23402682,  0.18454283,  0.03970897,  0.22024377,\n",
       "        -0.09798142, -0.42323723, -0.11605765,  0.10792805,  0.23220183,\n",
       "        -0.05776737,  0.06377862, -0.24375297, -0.02540247,  0.10344522,\n",
       "         0.23888136, -0.26866326,  0.11794633, -0.06412425,  0.02082352,\n",
       "        -0.01551068,  0.2606988 ,  0.26149362, -0.40974522,  0.45049047,\n",
       "         0.33373806, -0.40571842,  0.10901598,  0.22907911, -0.33606777]],\n",
       "      dtype=float32)>"
      ]
     },
     "execution_count": 83,
     "metadata": {},
     "output_type": "execute_result"
    }
   ],
   "source": [
    "l"
   ]
  },
  {
   "cell_type": "code",
   "execution_count": null,
   "metadata": {},
   "outputs": [],
   "source": []
  },
  {
   "cell_type": "code",
   "execution_count": null,
   "metadata": {},
   "outputs": [],
   "source": []
  },
  {
   "cell_type": "code",
   "execution_count": null,
   "metadata": {},
   "outputs": [],
   "source": []
  },
  {
   "cell_type": "code",
   "execution_count": 100,
   "metadata": {},
   "outputs": [],
   "source": [
    "modelp = tf.keras.models.Sequential()\n",
    "modelp.add(tf.keras.layers.Conv2D(32, kernel_size = (3,3)))\n",
    "modelp.add(tf.keras.layers.MaxPooling2D(4))\n",
    "modelp.add(tf.keras.layers.Conv2D(32, kernel_size = (4,4)))\n",
    "modelp.add(tf.keras.layers.MaxPooling2D(3))\n",
    "modelp.add(tf.keras.layers.Flatten())\n",
    "modelp.compile(optimizer = 'adam', metrics=['accuracy'], loss='binary_crossentropy' )"
   ]
  },
  {
   "cell_type": "code",
   "execution_count": 101,
   "metadata": {},
   "outputs": [],
   "source": [
    "ch = modelp.predict(ii)"
   ]
  },
  {
   "cell_type": "code",
   "execution_count": 102,
   "metadata": {},
   "outputs": [
    {
     "data": {
      "text/plain": [
       "(2, 384)"
      ]
     },
     "execution_count": 102,
     "metadata": {},
     "output_type": "execute_result"
    }
   ],
   "source": [
    "ch.shape"
   ]
  },
  {
   "cell_type": "code",
   "execution_count": 61,
   "metadata": {},
   "outputs": [],
   "source": [
    "ii = tf.random.normal((2,57,64,1))"
   ]
  },
  {
   "cell_type": "code",
   "execution_count": 24,
   "metadata": {},
   "outputs": [],
   "source": [
    "oon = tf.keras.layers.Conv2D(32, kernel_size = (4,4))(ii)"
   ]
  },
  {
   "cell_type": "code",
   "execution_count": 74,
   "metadata": {},
   "outputs": [],
   "source": [
    "ss11 = tf.random.normal((2,12,6))"
   ]
  },
  {
   "cell_type": "code",
   "execution_count": 46,
   "metadata": {},
   "outputs": [],
   "source": [
    "x = np.array([[1,2,3,4,1,5,33],[5,5,3,2,2,1,2]])"
   ]
  },
  {
   "cell_type": "code",
   "execution_count": 47,
   "metadata": {},
   "outputs": [],
   "source": [
    "po = tf.keras.layers.Embedding(34,3)(x)"
   ]
  },
  {
   "cell_type": "code",
   "execution_count": 48,
   "metadata": {},
   "outputs": [],
   "source": [
    "ss = tf.keras.layers.Bidirectional(tf.keras.layers.LSTM(3, return_sequences = True))(po)"
   ]
  },
  {
   "cell_type": "code",
   "execution_count": 75,
   "metadata": {},
   "outputs": [],
   "source": [
    "nss =  tf.keras.layers.LSTM(12)(ss11)"
   ]
  },
  {
   "cell_type": "code",
   "execution_count": 103,
   "metadata": {},
   "outputs": [],
   "source": [
    "popo = tf.keras.layers.Reshape((7,6,1))(ss)"
   ]
  },
  {
   "cell_type": "code",
   "execution_count": 111,
   "metadata": {},
   "outputs": [],
   "source": [
    "conv = tf.keras.layers.Conv2D(32, kernel_size = (2,2))(popo)"
   ]
  },
  {
   "cell_type": "code",
   "execution_count": 115,
   "metadata": {},
   "outputs": [],
   "source": [
    "mx = tf.keras.layers.MaxPooling2D(2)(conv)"
   ]
  },
  {
   "cell_type": "code",
   "execution_count": null,
   "metadata": {},
   "outputs": [],
   "source": [
    "crz = tf.kears.LSTM(128)"
   ]
  },
  {
   "cell_type": "code",
   "execution_count": 25,
   "metadata": {},
   "outputs": [],
   "source": [
    "ls1 = tf.keras.layers.LSTM(12, return_sequences = True)"
   ]
  },
  {
   "cell_type": "code",
   "execution_count": 28,
   "metadata": {},
   "outputs": [],
   "source": [
    "ls2 = tf.keras.layers.LSTM(12, go_backwards = True,return_sequences = True ) "
   ]
  },
  {
   "cell_type": "code",
   "execution_count": 29,
   "metadata": {},
   "outputs": [],
   "source": [
    "ss1 = tf.keras.layers.Bidirectional(ls1,backward_layer = ls2 )"
   ]
  },
  {
   "cell_type": "code",
   "execution_count": 56,
   "metadata": {},
   "outputs": [
    {
     "data": {
      "text/plain": [
       "<tf.Tensor: shape=(2, 12), dtype=float32, numpy=\n",
       "array([[-0.01963948,  0.4092062 ,  0.22047268,  0.09375506, -0.01355213,\n",
       "         0.11491966,  0.39352652,  0.10109936, -0.09950218, -0.39432216,\n",
       "         0.2971056 , -0.01266266],\n",
       "       [ 0.19200867,  0.42786616, -0.11345592,  0.19756623,  0.08415218,\n",
       "        -0.67005587,  0.05958585,  0.36883512,  0.06555943, -0.22092949,\n",
       "         0.02697607,  0.7324941 ]], dtype=float32)>"
      ]
     },
     "execution_count": 56,
     "metadata": {},
     "output_type": "execute_result"
    }
   ],
   "source": [
    "nss"
   ]
  },
  {
   "cell_type": "code",
   "execution_count": 26,
   "metadata": {},
   "outputs": [
    {
     "data": {
      "text/plain": [
       "<tf.Tensor: shape=(54, 61, 32), dtype=float32, numpy=\n",
       "array([[[ 4.15695995e-01,  1.34814307e-01, -2.56268322e-01, ...,\n",
       "         -2.96962231e-01,  1.19975910e-01, -4.13211249e-03],\n",
       "        [-8.22474137e-02,  3.62410665e-01, -3.41286689e-01, ...,\n",
       "          1.38616666e-01,  1.59383163e-01,  8.86916220e-02],\n",
       "        [-4.53193158e-01,  1.38031036e-01,  2.64336020e-01, ...,\n",
       "          9.78679806e-02,  8.74541700e-03, -2.40361646e-01],\n",
       "        ...,\n",
       "        [ 1.38853326e-01, -3.60384643e-01, -1.55296460e-01, ...,\n",
       "         -3.73118013e-01, -4.50705588e-01, -1.73816517e-01],\n",
       "        [ 5.91769516e-02, -1.40768617e-01,  1.67472258e-01, ...,\n",
       "         -2.49137402e-01, -9.36683193e-02, -8.58984068e-02],\n",
       "        [-2.23036915e-01, -5.01346648e-01,  3.20178002e-01, ...,\n",
       "         -4.92659390e-01, -1.44732133e-01, -2.46578366e-01]],\n",
       "\n",
       "       [[ 7.10738674e-02, -1.07183725e-01,  5.58869652e-02, ...,\n",
       "         -9.28430036e-02, -1.78815231e-01, -3.69963259e-01],\n",
       "        [-2.84254521e-01, -3.48172300e-02, -2.75497675e-01, ...,\n",
       "         -5.03199279e-01, -6.33602217e-02, -2.78175563e-01],\n",
       "        [-1.88162755e-02,  5.90029836e-01, -1.38085827e-01, ...,\n",
       "         -1.61105663e-01,  1.74579486e-01, -2.57680565e-01],\n",
       "        ...,\n",
       "        [ 7.71967287e-04, -2.73235530e-01,  1.31641448e-01, ...,\n",
       "         -8.61965716e-02, -1.79487050e-01, -3.61256987e-01],\n",
       "        [-6.22247010e-02, -3.18698823e-01,  2.98665226e-01, ...,\n",
       "         -4.44057941e-01, -1.80355951e-01, -6.29399598e-01],\n",
       "        [ 4.36552823e-01,  1.30073845e-01,  1.37656137e-01, ...,\n",
       "         -6.54858708e-01,  1.07889809e-01, -6.40998602e-01]],\n",
       "\n",
       "       [[-1.74727246e-01, -7.38259628e-02, -2.73857236e-01, ...,\n",
       "          3.41593206e-01, -2.00512722e-01, -1.07146434e-01],\n",
       "        [ 3.72536689e-01, -1.51697472e-01, -2.53062882e-02, ...,\n",
       "          1.46637252e-02,  1.59305155e-01,  9.08017159e-02],\n",
       "        [ 8.30595866e-02, -1.89462945e-01, -2.63700724e-01, ...,\n",
       "         -1.60009023e-02, -2.70946026e-01,  1.90441445e-01],\n",
       "        ...,\n",
       "        [ 9.78938639e-02,  3.39596532e-02,  2.60545850e-01, ...,\n",
       "          2.46553808e-01,  1.03875482e-02, -2.86812931e-02],\n",
       "        [-1.19645938e-01, -3.23974460e-01, -1.38561860e-01, ...,\n",
       "          3.14349473e-01, -1.84647828e-01,  3.54281187e-01],\n",
       "        [-3.10994565e-01, -3.45062822e-01, -3.70577127e-01, ...,\n",
       "          1.62143722e-01, -5.73858559e-01,  3.63814980e-02]],\n",
       "\n",
       "       ...,\n",
       "\n",
       "       [[-4.43786830e-02,  2.97568411e-01,  3.61872278e-02, ...,\n",
       "         -1.55643255e-01,  2.48896822e-01, -1.89740986e-01],\n",
       "        [ 4.37915921e-02,  3.51738334e-01,  1.58051372e-01, ...,\n",
       "         -5.70880234e-01,  3.98581237e-01, -2.67218143e-01],\n",
       "        [ 2.83023924e-01,  5.30609608e-01,  9.30272043e-02, ...,\n",
       "         -1.27001964e-02,  6.22611880e-01,  1.14163905e-01],\n",
       "        ...,\n",
       "        [-5.32942116e-02, -2.53956199e-01,  9.27392021e-02, ...,\n",
       "         -1.10447705e-01, -9.78672355e-02,  1.34130344e-01],\n",
       "        [-2.38986537e-01, -3.63707423e-01,  1.11163119e-02, ...,\n",
       "         -7.93854415e-01, -3.96926761e-01, -2.85960257e-01],\n",
       "        [ 5.44810772e-01, -3.63354981e-02,  6.10433996e-01, ...,\n",
       "         -6.83305204e-01,  3.59609306e-01, -2.28040621e-01]],\n",
       "\n",
       "       [[-4.41001385e-01, -5.37052393e-01, -5.84261894e-01, ...,\n",
       "         -2.54707098e-01, -3.77139986e-01,  2.72647381e-01],\n",
       "        [ 9.45131555e-02, -4.15023975e-02,  1.01060746e-02, ...,\n",
       "         -2.18700469e-01, -3.43060106e-01, -2.10504815e-01],\n",
       "        [-1.66357696e-01,  1.39524430e-01, -1.16283499e-01, ...,\n",
       "         -6.08223915e-01,  2.68111795e-01,  5.31467572e-02],\n",
       "        ...,\n",
       "        [ 8.77529025e-01, -1.41758949e-01,  6.11355826e-02, ...,\n",
       "         -1.11018993e-01, -2.02587053e-01, -4.17502612e-01],\n",
       "        [ 1.86315283e-01, -2.78148830e-01,  4.08925116e-01, ...,\n",
       "         -1.12384856e-01,  4.65684943e-02, -1.16908275e-01],\n",
       "        [ 8.81067514e-02, -4.47128385e-01,  2.71379918e-01, ...,\n",
       "         -2.36416757e-01, -2.44084343e-01, -2.20230490e-01]],\n",
       "\n",
       "       [[ 7.51770437e-01, -1.78181097e-01, -7.07532391e-02, ...,\n",
       "         -5.53037189e-02,  2.05043629e-01,  2.15321720e-01],\n",
       "        [-8.71187747e-02, -4.91163701e-01,  3.34234357e-01, ...,\n",
       "          3.18275392e-02, -1.85411453e-01, -1.52783751e-01],\n",
       "        [ 5.58710933e-01, -3.78934354e-01, -1.30265281e-01, ...,\n",
       "         -2.28313684e-01, -3.44150424e-01, -2.11218268e-01],\n",
       "        ...,\n",
       "        [-5.33487976e-01, -7.89417252e-02,  4.76547182e-01, ...,\n",
       "          1.52787015e-01, -8.89530554e-02, -3.15005958e-01],\n",
       "        [-3.42609972e-01, -1.71353012e-01, -1.57090217e-01, ...,\n",
       "         -1.61016315e-01, -2.91204959e-01, -2.61499882e-01],\n",
       "        [ 2.51323760e-01,  1.74296990e-01, -4.11564037e-02, ...,\n",
       "          1.65821806e-01, -7.44336098e-02, -1.32402658e-01]]],\n",
       "      dtype=float32)>"
      ]
     },
     "execution_count": 26,
     "metadata": {},
     "output_type": "execute_result"
    }
   ],
   "source": [
    "oon[0]"
   ]
  },
  {
   "cell_type": "code",
   "execution_count": 116,
   "metadata": {
    "scrolled": true
   },
   "outputs": [
    {
     "data": {
      "text/plain": [
       "<tf.Tensor: shape=(3, 2, 32), dtype=float32, numpy=\n",
       "array([[[ 3.46815563e-03,  2.42477329e-03,  8.13817722e-04,\n",
       "          5.22070564e-04,  1.71560165e-03,  1.26885111e-03,\n",
       "          6.43325213e-04,  1.02765829e-04,  4.22539219e-04,\n",
       "          1.40528334e-03,  4.40615742e-03,  1.71834696e-03,\n",
       "          2.22007022e-03,  1.71630993e-03,  2.05257977e-03,\n",
       "         -4.43275319e-04,  9.69189394e-04,  2.58246693e-03,\n",
       "          6.13711192e-04,  1.11426914e-03,  2.68391706e-03,\n",
       "          1.07012922e-03,  2.41354248e-03,  7.73899781e-04,\n",
       "          1.61211018e-03,  1.95597950e-03,  1.02633773e-03,\n",
       "          1.14041101e-03,  2.34635919e-03,  3.41984699e-03,\n",
       "          1.52533583e-03,  9.63777420e-04],\n",
       "        [ 9.34939191e-04,  2.19384232e-03,  1.25449407e-03,\n",
       "          1.32975436e-03,  1.55003532e-03,  4.79677925e-04,\n",
       "          2.46364693e-03,  2.91221892e-03,  1.18723919e-03,\n",
       "          1.01027207e-03,  1.96201866e-03,  1.37090962e-03,\n",
       "          1.37157051e-03,  1.55439891e-03,  3.67919938e-03,\n",
       "          1.65429141e-03,  8.65657930e-04,  3.67272948e-03,\n",
       "          2.59680254e-03,  1.74677582e-03,  6.63958257e-04,\n",
       "          6.73330098e-04,  1.92047667e-03,  5.13330917e-04,\n",
       "          1.22365134e-03,  1.14755845e-03,  8.12068174e-04,\n",
       "          4.67721489e-04,  1.11907092e-03,  6.20112289e-04,\n",
       "          2.64000241e-03,  7.48812978e-04]],\n",
       "\n",
       "       [[ 2.98438803e-03,  2.27230368e-03,  3.67551297e-03,\n",
       "          3.79976304e-03, -5.88065828e-04,  7.77556095e-04,\n",
       "         -8.87319038e-05,  3.10600293e-03,  2.69390480e-03,\n",
       "          3.55676794e-03,  5.90518396e-03, -2.96979473e-04,\n",
       "          5.12082083e-03,  4.75545041e-03, -2.21584822e-04,\n",
       "          6.09748357e-04, -5.76402643e-04,  8.33944534e-04,\n",
       "          6.17777521e-04,  2.34622555e-03,  2.93666357e-03,\n",
       "          1.67823920e-03,  3.79218976e-03, -5.12401515e-04,\n",
       "         -1.60262035e-03,  1.13503006e-03,  1.20170182e-03,\n",
       "          1.40552607e-03, -2.82486551e-03,  2.99254083e-03,\n",
       "          2.14855629e-03,  1.71828945e-03],\n",
       "        [ 3.45839886e-03,  3.01068206e-03,  1.52338727e-03,\n",
       "          5.47797419e-04,  1.55244791e-03,  1.42667489e-03,\n",
       "          6.18183112e-04,  1.77770574e-03,  9.88750020e-04,\n",
       "          1.50584278e-03,  3.73192970e-03,  1.97853404e-03,\n",
       "          2.42022844e-03,  2.02307990e-03,  2.95027113e-03,\n",
       "          8.86437017e-04,  1.28594681e-03,  3.78720881e-03,\n",
       "          1.86551595e-03,  1.78763876e-03,  2.63360119e-03,\n",
       "          7.70466402e-04,  3.50838481e-03,  7.13725225e-04,\n",
       "          1.66370638e-03,  2.33429484e-03,  1.27648050e-03,\n",
       "          6.01337058e-04,  1.71868957e-03,  2.08176090e-03,\n",
       "          2.13640113e-03,  1.01668807e-03]],\n",
       "\n",
       "       [[ 1.49612897e-03,  2.69399234e-03,  2.66948831e-03,\n",
       "          3.38318734e-03, -1.44181459e-03,  5.22597809e-04,\n",
       "          1.11082220e-03,  9.98999691e-04,  4.26186016e-04,\n",
       "          2.53354153e-03,  4.42913733e-03, -1.15852582e-03,\n",
       "          3.63115757e-03,  3.26857343e-03,  2.49547465e-03,\n",
       "         -1.05160114e-04, -1.73934925e-04, -2.36343406e-03,\n",
       "         -9.08441260e-04,  6.80082303e-04,  2.37775454e-03,\n",
       "          1.47881766e-03,  1.27134298e-03,  3.17494560e-04,\n",
       "          1.04728178e-03, -5.79666812e-04,  1.14810118e-03,\n",
       "          1.04257930e-03, -6.57951401e-04,  2.15255097e-03,\n",
       "         -1.51567074e-05,  1.51739107e-03],\n",
       "        [ 3.28687672e-03,  1.30811299e-03,  9.57768876e-04,\n",
       "          2.12149904e-03,  7.54774141e-04,  4.69493243e-04,\n",
       "          8.18512111e-04,  4.03273897e-03,  1.50509353e-03,\n",
       "          2.35586404e-03,  4.50594723e-03,  1.22573541e-03,\n",
       "          3.48762306e-03,  3.27877374e-03,  1.25045155e-03,\n",
       "          1.10409863e-03,  1.39651936e-04,  3.33576277e-03,\n",
       "          2.47383839e-03,  2.50078598e-03,  1.22750527e-03,\n",
       "          1.01034204e-03,  4.13685758e-03,  3.17512429e-04,\n",
       "          6.87991211e-04,  2.15876335e-03,  5.62300324e-04,\n",
       "          9.69379907e-04, -4.56632770e-05,  1.63506577e-03,\n",
       "          2.98920972e-03,  5.01311966e-04]]], dtype=float32)>"
      ]
     },
     "execution_count": 116,
     "metadata": {},
     "output_type": "execute_result"
    }
   ],
   "source": [
    "mx[0]"
   ]
  },
  {
   "cell_type": "code",
   "execution_count": 113,
   "metadata": {},
   "outputs": [
    {
     "data": {
      "text/plain": [
       "<tf.Tensor: shape=(6, 5, 32), dtype=float32, numpy=\n",
       "array([[[ 2.08285660e-03, -1.50197046e-03, -2.74775736e-03,\n",
       "         -2.08304590e-03,  1.71560165e-03,  2.70660123e-04,\n",
       "          5.31521975e-04,  1.02765829e-04, -2.31776488e-04,\n",
       "         -1.11837508e-04,  9.13429423e-04,  1.71834696e-03,\n",
       "          9.37303848e-05, -1.38692354e-04,  6.46265573e-04,\n",
       "         -4.43275319e-04,  9.69189394e-04,  2.58246693e-03,\n",
       "          6.13711192e-04,  7.82928953e-04, -9.93405236e-04,\n",
       "         -3.64613690e-04,  1.85153598e-03,  4.92489606e-04,\n",
       "          1.20665517e-03,  1.95597950e-03, -7.73296342e-04,\n",
       "          1.27555002e-04,  2.34635919e-03,  9.91159235e-04,\n",
       "          1.52533583e-03, -9.51796479e-04],\n",
       "        [-2.35191267e-03,  2.42477329e-03,  8.13817722e-04,\n",
       "         -3.63516185e-04, -4.35789378e-04,  1.26885111e-03,\n",
       "         -6.99442171e-05, -2.89002783e-03, -1.97286112e-03,\n",
       "         -8.12340295e-04, -3.25089530e-03, -1.63869292e-03,\n",
       "         -1.26726634e-03, -1.28518161e-03,  2.05257977e-03,\n",
       "         -1.34620944e-03, -1.04636315e-03, -3.63065721e-03,\n",
       "         -2.17438024e-03, -2.55317660e-03,  2.68391706e-03,\n",
       "          4.74010703e-05, -2.93759443e-03,  7.73899781e-04,\n",
       "          1.61211018e-03, -1.87476550e-03,  1.02633773e-03,\n",
       "          6.17543919e-05,  4.60320472e-04, -1.54999574e-03,\n",
       "         -1.89094420e-03,  9.63777420e-04],\n",
       "        [ 9.34939191e-04, -1.67319167e-03, -4.01149300e-05,\n",
       "          1.32975436e-03,  3.70732276e-04, -5.54798346e-04,\n",
       "         -1.11941574e-03,  2.91221892e-03,  1.18723919e-03,\n",
       "          1.01027207e-03,  1.96201866e-03,  7.00722565e-04,\n",
       "          1.37157051e-03,  1.55439891e-03, -2.78746639e-03,\n",
       "          1.14816567e-03, -8.95523044e-05,  2.48540868e-03,\n",
       "          1.99016463e-03,  1.74677582e-03, -1.28359464e-03,\n",
       "          6.73330098e-04,  1.92047667e-03, -7.69435312e-04,\n",
       "         -1.74667628e-03,  8.16092943e-04, -6.19497849e-04,\n",
       "          4.17290983e-04, -1.00162462e-03,  2.17085530e-04,\n",
       "          1.90346979e-03, -4.71135805e-04],\n",
       "        [-6.94964139e-04,  8.65442853e-04,  5.03412564e-04,\n",
       "         -4.26142069e-04, -4.20176773e-04,  8.96793208e-05,\n",
       "          9.82898870e-04, -9.87077248e-04,  1.76481582e-04,\n",
       "         -7.32227054e-04, -9.31289454e-04, -2.29991754e-04,\n",
       "         -1.04942266e-03, -1.01789355e-03,  1.23722258e-03,\n",
       "          2.57527921e-04,  5.21611131e-04, -8.64954956e-04,\n",
       "         -5.33429673e-04, -5.06347045e-04,  6.63958257e-04,\n",
       "         -5.02279843e-04, -1.05097087e-03,  2.56252417e-04,\n",
       "          3.48552509e-04, -4.85800207e-04,  2.94237689e-04,\n",
       "         -4.72128624e-04,  4.24657686e-04, -1.08304688e-04,\n",
       "         -1.05816789e-03,  6.04708097e-04],\n",
       "        [ 6.39823847e-04, -1.29214057e-03, -2.25321343e-03,\n",
       "         -1.58150110e-03,  2.32648407e-03,  1.18661323e-03,\n",
       "          4.17656265e-04,  1.52761640e-03,  6.23117841e-04,\n",
       "         -6.98792748e-04, -5.23531984e-04,  1.94944907e-03,\n",
       "         -9.53028852e-04, -7.16229144e-04, -3.37239238e-04,\n",
       "          1.45327102e-03,  1.42713520e-03,  3.91628500e-03,\n",
       "          2.18778197e-03,  1.13252213e-03,  7.45328900e-04,\n",
       "         -3.44201835e-05,  1.26556703e-03,  5.81863045e-04,\n",
       "          4.69638238e-04,  1.52707170e-03, -7.50979409e-04,\n",
       "          1.74646193e-04,  3.32683325e-03, -4.67785692e-04,\n",
       "          2.39389809e-03,  3.13195313e-04]],\n",
       "\n",
       "       [[ 3.46815563e-03, -1.54613773e-03, -5.11270599e-04,\n",
       "         -2.01654679e-04, -1.32544071e-03, -2.62425910e-03,\n",
       "          6.43325213e-04, -4.63416101e-04,  4.22539219e-04,\n",
       "          1.29687204e-03,  4.40615742e-03,  4.33370587e-04,\n",
       "          2.22007022e-03,  1.53596210e-03,  3.83451377e-04,\n",
       "         -1.73928111e-03,  1.60286741e-04, -2.71738943e-04,\n",
       "         -1.20951701e-03,  1.11426914e-03, -4.54756524e-03,\n",
       "         -7.65158329e-04,  2.41354248e-03, -7.99234258e-04,\n",
       "         -2.82672932e-04,  1.52690266e-03, -5.46961208e-04,\n",
       "         -4.21953533e-04, -2.40949146e-03,  3.41984699e-03,\n",
       "         -8.08957790e-04, -2.33801850e-03],\n",
       "        [ 5.21772541e-04, -2.72035279e-04, -7.64371129e-04,\n",
       "          5.22070564e-04,  3.29623261e-04,  3.01247055e-04,\n",
       "         -2.33600009e-03, -5.76839957e-04, -2.34500039e-03,\n",
       "          1.40528334e-03,  4.12322581e-04, -8.53868434e-04,\n",
       "          2.03203363e-03,  1.71630993e-03, -8.87916889e-04,\n",
       "         -2.56782281e-03, -2.28001480e-03, -1.43294700e-03,\n",
       "         -1.18724466e-03, -9.40051803e-04, -3.60050413e-04,\n",
       "          1.07012922e-03,  4.98603331e-04, -6.82413593e-05,\n",
       "          7.49053666e-04, -1.06951920e-04,  9.09652153e-05,\n",
       "          1.14041101e-03, -1.18058478e-03, -2.27189550e-04,\n",
       "          6.04517991e-04, -1.30251050e-03],\n",
       "        [ 6.02255983e-04, -1.66327099e-03, -1.07790751e-03,\n",
       "          2.38633409e-04,  1.55003532e-03,  4.79677925e-04,\n",
       "         -7.50763924e-04,  2.87821959e-03,  1.04160677e-03,\n",
       "          2.86824681e-04,  6.74220675e-04,  1.37090962e-03,\n",
       "          3.38316167e-04,  6.53717958e-04, -2.24854099e-03,\n",
       "          1.65429141e-03,  5.37248328e-04,  3.67272948e-03,\n",
       "          2.59680254e-03,  1.65356731e-03, -5.89747324e-05,\n",
       "          5.89500123e-04,  1.73658773e-03, -1.86747944e-04,\n",
       "         -9.82846599e-04,  1.14755845e-03, -7.44381512e-04,\n",
       "          4.67721489e-04,  1.11907092e-03, -4.66775207e-04,\n",
       "          2.64000241e-03,  3.97550975e-05],\n",
       "        [-9.88127314e-04,  2.19384232e-03,  1.25449407e-03,\n",
       "         -1.14818034e-03, -1.68393319e-03, -4.47798986e-04,\n",
       "          2.46364693e-03, -3.45209567e-03, -1.16811752e-04,\n",
       "         -1.40345108e-03, -1.43277750e-03, -9.43672203e-04,\n",
       "         -1.90064555e-03, -2.11762497e-03,  3.67919938e-03,\n",
       "         -6.10952789e-04,  8.65657930e-04, -3.39258299e-03,\n",
       "         -2.49006273e-03, -1.59517641e-03,  5.68918942e-04,\n",
       "         -1.43561617e-03, -2.43843324e-03,  5.13330917e-04,\n",
       "          1.22365134e-03, -1.15387246e-03,  8.12068174e-04,\n",
       "         -1.22610806e-03,  8.56100087e-05,  6.20112289e-04,\n",
       "         -3.42524378e-03,  7.48812978e-04],\n",
       "        [ 2.34865211e-03, -2.67332187e-03, -3.47059453e-03,\n",
       "         -1.62214763e-03,  2.88609765e-03,  7.63363554e-04,\n",
       "         -5.19735273e-04,  2.27248133e-03,  1.95893474e-04,\n",
       "          3.16637830e-04,  1.28592434e-03,  2.48889253e-03,\n",
       "          6.19778759e-04,  6.24685432e-04, -1.33779738e-03,\n",
       "          5.18820947e-04,  9.17634112e-04,  5.01256576e-03,\n",
       "          2.44067004e-03,  1.81816029e-03, -8.62292422e-04,\n",
       "          3.36041878e-04,  3.05956160e-03,  3.18997452e-04,\n",
       "          4.67372331e-04,  2.62006745e-03, -1.25782017e-03,\n",
       "          6.90703513e-04,  2.90582329e-03,  3.86155647e-04,\n",
       "          3.59714893e-03, -9.80231329e-04]],\n",
       "\n",
       "       [[ 6.95139519e-04,  6.37455436e-04,  3.23857646e-03,\n",
       "          2.56586703e-03, -3.81595548e-03, -3.06881196e-03,\n",
       "         -8.87319038e-05, -1.02475018e-03,  4.63051780e-04,\n",
       "          1.50665571e-03,  3.18702194e-03, -2.07971106e-03,\n",
       "          2.19859113e-03,  1.75372523e-03, -2.21584822e-04,\n",
       "         -1.54290395e-03, -1.33014307e-03, -4.28595860e-03,\n",
       "         -2.45898031e-03, -1.86879639e-04, -3.30326147e-03,\n",
       "         -3.08156741e-04, -2.19668349e-04, -1.44506444e-03,\n",
       "         -1.71820307e-03, -1.21403264e-03,  5.79138461e-04,\n",
       "         -5.94750163e-04, -5.78413298e-03,  2.19895737e-03,\n",
       "         -3.16879060e-03, -1.18485885e-03],\n",
       "        [ 2.98438803e-03, -2.86663696e-03, -4.72700085e-05,\n",
       "          3.01838084e-03, -5.88065828e-04, -2.07181950e-03,\n",
       "         -3.67246429e-03,  3.10600293e-03, -3.61304876e-04,\n",
       "          3.55676794e-03,  5.26848808e-03, -2.96979473e-04,\n",
       "          5.12082083e-03,  4.75545041e-03, -4.71596001e-03,\n",
       "         -1.79483183e-03, -2.65480997e-03,  8.33944534e-04,\n",
       "          6.17777521e-04,  1.79846922e-03, -4.33983747e-03,\n",
       "          1.67823920e-03,  3.79218976e-03, -1.76751288e-03,\n",
       "         -2.27416470e-03,  1.13503006e-03, -7.73929700e-04,\n",
       "          1.40552607e-03, -4.82071843e-03,  1.65512424e-03,\n",
       "          2.14855629e-03, -2.90722609e-03],\n",
       "        [ 2.02118116e-03, -2.03066249e-03, -2.08808482e-03,\n",
       "         -1.12431275e-03,  1.55244791e-03, -9.61566257e-05,\n",
       "          3.83400329e-04,  1.77770574e-03,  9.88750020e-04,\n",
       "          8.85393456e-05,  1.61536725e-03,  1.97853404e-03,\n",
       "          2.84126669e-04,  2.77675135e-04, -7.47506449e-04,\n",
       "          8.86437017e-04,  1.28594681e-03,  3.78720881e-03,\n",
       "          1.86551595e-03,  1.77421141e-03, -1.33022352e-03,\n",
       "         -1.81228053e-04,  2.37978087e-03,  2.62705180e-05,\n",
       "         -1.09657092e-04,  2.03814544e-03, -9.76159470e-04,\n",
       "          6.40556464e-05,  1.71868957e-03,  9.21132741e-04,\n",
       "          2.13640113e-03, -6.81063277e-04],\n",
       "        [-2.46830517e-03,  3.01068206e-03,  1.52338727e-03,\n",
       "         -3.57804704e-04, -1.32991211e-03,  7.38553237e-04,\n",
       "          6.18183112e-04, -3.82162281e-03, -1.83968036e-03,\n",
       "         -1.00558216e-03, -3.15607153e-03, -2.06897897e-03,\n",
       "         -1.50763709e-03, -1.62884931e-03,  2.95027113e-03,\n",
       "         -1.59778935e-03, -8.99072154e-04, -4.89738630e-03,\n",
       "         -3.03378166e-03, -2.89849192e-03,  2.36396585e-03,\n",
       "         -3.90870235e-04, -3.52697680e-03,  7.13725225e-04,\n",
       "          1.66370638e-03, -2.26497068e-03,  1.27648050e-03,\n",
       "         -3.57662444e-04, -1.99940725e-04, -1.07170478e-03,\n",
       "         -3.12728132e-03,  1.01668807e-03],\n",
       "        [ 3.53933289e-03, -3.33946338e-03, -2.33579124e-03,\n",
       "         -5.36872190e-04,  1.39803393e-03, -1.10693194e-03,\n",
       "         -8.13456136e-05,  3.05842585e-03,  1.58658542e-03,\n",
       "          1.02241314e-03,  3.88605543e-03,  2.43951078e-03,\n",
       "          1.69389055e-03,  1.56273157e-03, -2.04338296e-03,\n",
       "          8.29416851e-04,  1.20081764e-03,  4.91514476e-03,\n",
       "          2.45709973e-03,  2.92812078e-03, -3.30547174e-03,\n",
       "         -2.64124355e-05,  4.07639658e-03, -5.78514650e-04,\n",
       "         -9.99500044e-04,  2.90852413e-03, -1.44837378e-03,\n",
       "          2.02593365e-04,  5.16747765e-04,  2.01853528e-03,\n",
       "          2.89689307e-03, -1.66137435e-03]],\n",
       "\n",
       "       [[-3.96505976e-03,  2.27230368e-03,  3.67551297e-03,\n",
       "          3.41929193e-03, -1.56056986e-03,  7.77556095e-04,\n",
       "         -2.15157145e-03,  4.50165593e-04, -5.29716257e-04,\n",
       "          3.44707048e-04, -2.60250596e-03, -2.72389827e-03,\n",
       "         -2.03875607e-05,  5.12230035e-04, -1.98268937e-03,\n",
       "          6.09748357e-04, -2.30060518e-03, -3.44718527e-03,\n",
       "         -3.53553303e-04, -1.55592337e-03,  2.93666357e-03,\n",
       "          1.39069383e-03, -2.98946467e-03, -5.12401515e-04,\n",
       "         -1.60262035e-03, -3.21230362e-03,  1.20170182e-03,\n",
       "          5.41096146e-04, -2.82486551e-03, -2.89312913e-03,\n",
       "         -1.09701965e-03,  1.71828945e-03],\n",
       "        [ 2.12879619e-03, -1.48079277e-03,  3.25018982e-03,\n",
       "          3.79976304e-03, -3.56707955e-03, -4.11933986e-03,\n",
       "         -4.79594863e-04,  2.51454557e-03,  2.69390480e-03,\n",
       "          2.34686909e-03,  5.90518396e-03, -8.26619798e-04,\n",
       "          3.36439908e-03,  3.14717018e-03, -3.07975360e-03,\n",
       "          4.48993000e-04, -5.76402643e-04, -7.94348074e-04,\n",
       "          1.55202186e-04,  2.34622555e-03, -5.27088670e-03,\n",
       "         -5.03912634e-06,  2.23059999e-03, -2.38718698e-03,\n",
       "         -3.98083171e-03,  5.89622687e-05, -2.79734493e-04,\n",
       "         -5.46928844e-04, -6.70791324e-03,  2.99254083e-03,\n",
       "         -1.17865123e-03, -1.61378493e-03],\n",
       "        [ 3.45839886e-03, -2.71443813e-03, -2.17240257e-03,\n",
       "         -3.85864987e-04,  8.67112249e-04, -1.16362551e-03,\n",
       "         -7.92993873e-04,  1.57044653e-03,  1.10486348e-04,\n",
       "          1.50584278e-03,  3.73192970e-03,  1.45322876e-03,\n",
       "          2.42022844e-03,  2.02307990e-03, -1.47571019e-03,\n",
       "         -9.88430809e-04, -4.12904374e-05,  2.68115709e-03,\n",
       "          8.22843169e-04,  1.78763876e-03, -3.39101395e-03,\n",
       "          1.99043236e-04,  3.50838481e-03, -5.27334400e-04,\n",
       "         -2.59926717e-04,  2.33429484e-03, -1.07545976e-03,\n",
       "          5.03008778e-04, -4.89067635e-04,  2.08176090e-03,\n",
       "          2.01576087e-03, -2.22013495e-03],\n",
       "        [-2.32302235e-03,  1.76878937e-03,  7.81747396e-04,\n",
       "          5.47797419e-04, -2.90031276e-05,  1.42667489e-03,\n",
       "         -1.30668795e-03, -1.44584116e-03, -1.95502536e-03,\n",
       "         -1.47327562e-04, -2.81240745e-03, -1.59365055e-03,\n",
       "         -4.11164685e-04, -2.99283129e-04,  3.19692452e-04,\n",
       "         -1.07612612e-03, -1.67847809e-03, -2.71782372e-03,\n",
       "         -1.25875394e-03, -2.05331226e-03,  2.63360119e-03,\n",
       "          7.70466402e-04, -2.23937095e-03,  4.59060859e-04,\n",
       "          8.79705301e-04, -1.76459865e-03,  8.31482699e-04,\n",
       "          6.01337058e-04, -5.89723641e-05, -2.02486338e-03,\n",
       "         -6.93118258e-04,  7.91042345e-04],\n",
       "        [ 1.99874560e-03, -1.90849137e-03, -4.55551752e-04,\n",
       "          1.51940345e-04,  8.48277996e-05, -1.31390663e-03,\n",
       "          6.66490931e-04,  2.25364114e-03,  2.08191038e-03,\n",
       "          4.22485318e-04,  2.81556579e-03,  1.45893591e-03,\n",
       "          7.15263770e-04,  7.30788335e-04, -1.29759009e-03,\n",
       "          1.42963859e-03,  1.32850383e-03,  3.00363800e-03,\n",
       "          1.77242211e-03,  2.25108699e-03, -2.41674087e-03,\n",
       "         -3.66959808e-04,  2.33113812e-03, -6.58129808e-04,\n",
       "         -1.43142336e-03,  1.57740223e-03, -8.42962880e-04,\n",
       "         -3.62358900e-04, -3.58527584e-04,  1.58015569e-03,\n",
       "          1.17139134e-03, -6.62115810e-04]],\n",
       "\n",
       "       [[-6.00066211e-04,  1.66293618e-03,  9.66976339e-04,\n",
       "         -5.09362028e-04, -1.44181459e-03, -4.27184830e-04,\n",
       "          1.11082220e-03, -2.88416166e-03, -8.12430982e-04,\n",
       "         -5.30475401e-04, -8.02929630e-04, -1.15852582e-03,\n",
       "         -6.74078881e-04, -9.61051264e-04,  2.49547465e-03,\n",
       "         -1.37089402e-03, -1.73934925e-04, -3.36390059e-03,\n",
       "         -2.44081859e-03, -1.55208504e-03,  1.55238828e-04,\n",
       "         -7.60245370e-04, -1.76182541e-03,  2.75096798e-04,\n",
       "          1.04728178e-03, -1.03506178e-03,  7.02432182e-04,\n",
       "         -6.06446527e-04, -7.05042330e-04,  5.00884315e-04,\n",
       "         -2.64168507e-03,  1.08940512e-04],\n",
       "        [ 3.66161577e-04, -4.31389519e-04,  1.69992913e-03,\n",
       "          3.22853005e-03, -1.59680529e-03, -1.29957555e-03,\n",
       "         -3.14023532e-03,  9.98999691e-04, -1.06941222e-03,\n",
       "          2.52634566e-03,  2.36909930e-03, -1.84256444e-03,\n",
       "          3.48180090e-03,  3.26857343e-03, -3.03253322e-03,\n",
       "         -1.90403138e-03, -3.04729445e-03, -2.36343406e-03,\n",
       "         -9.08441260e-04, -1.25671446e-04, -1.87553163e-03,\n",
       "          1.47881766e-03,  7.84706906e-04, -1.30964478e-03,\n",
       "         -1.64509146e-03, -8.94993194e-04,  2.36080581e-04,\n",
       "          1.04257930e-03, -4.86259814e-03,  2.48655677e-04,\n",
       "         -1.51567074e-05, -1.46658684e-03],\n",
       "        [ 1.76692614e-03, -2.54835421e-03,  5.41068084e-06,\n",
       "          2.12149904e-03,  2.19769150e-04, -1.19118311e-03,\n",
       "         -1.83891295e-03,  4.03273897e-03,  1.50509353e-03,\n",
       "          1.83394062e-03,  3.47518548e-03,  8.22441769e-04,\n",
       "          2.55525229e-03,  2.69306684e-03, -4.10889974e-03,\n",
       "          1.10409863e-03, -4.65081714e-04,  3.13214702e-03,\n",
       "          2.47383839e-03,  2.50078598e-03, -2.50923657e-03,\n",
       "          1.01034204e-03,  3.03602032e-03, -1.28015876e-03,\n",
       "         -2.56544678e-03,  1.22880423e-03, -8.97546299e-04,\n",
       "          6.62162609e-04, -2.15862924e-03,  7.30372325e-04,\n",
       "          2.55191117e-03, -1.11732131e-03],\n",
       "        [-7.02538062e-04,  1.06865028e-03,  9.57768876e-04,\n",
       "         -4.77429385e-05, -9.52944567e-04, -2.46562035e-04,\n",
       "          8.18512111e-04, -1.30817073e-03, -3.45036619e-06,\n",
       "         -4.80595045e-04, -6.43580628e-04, -6.60897058e-04,\n",
       "         -6.89468347e-04, -7.37028953e-04,  1.25045155e-03,\n",
       "         -1.75428038e-04,  1.39651936e-04, -1.73815561e-03,\n",
       "         -1.05498778e-03, -7.24438461e-04,  3.35788151e-04,\n",
       "         -4.72634274e-04, -1.21189281e-03,  9.09843366e-05,\n",
       "          2.33551385e-04, -7.66579411e-04,  4.36074042e-04,\n",
       "         -4.80087445e-04, -4.28666797e-04,  9.06095520e-05,\n",
       "         -1.55779487e-03,  4.18901211e-04],\n",
       "        [ 9.48723173e-04, -1.24886818e-03, -1.06359599e-03,\n",
       "         -9.01676467e-05,  9.75403120e-04,  1.02728474e-04,\n",
       "         -5.63556445e-04,  1.44759368e-03,  2.81292858e-04,\n",
       "          4.21676028e-04,  9.06336296e-04,  8.87201168e-04,\n",
       "          6.30765921e-04,  6.73419330e-04, -1.19930599e-03,\n",
       "          3.70387366e-04,  1.48350475e-04,  2.10104510e-03,\n",
       "          1.22322142e-03,  9.68275999e-04, -5.92167431e-04,\n",
       "          3.34139302e-04,  1.43458508e-03, -1.14702045e-04,\n",
       "         -3.07721173e-04,  9.82104102e-04, -5.33473853e-04,\n",
       "          3.69248592e-04,  5.47768082e-04,  1.41610668e-04,\n",
       "          1.61385618e-03, -4.58368333e-04]],\n",
       "\n",
       "       [[-2.83936015e-03,  2.69399234e-03,  2.31505372e-03,\n",
       "          5.81488654e-04, -1.49435864e-03,  5.22597809e-04,\n",
       "          5.71412151e-04, -2.23348965e-03, -5.92174125e-04,\n",
       "         -9.79933422e-04, -2.82837520e-03, -1.87243184e-03,\n",
       "         -1.59129128e-03, -1.43794948e-03,  1.68492459e-03,\n",
       "         -1.05160114e-04, -5.15197113e-04, -3.79698817e-03,\n",
       "         -1.77224376e-03, -2.02930113e-03,  2.37775454e-03,\n",
       "         -2.32266961e-04, -3.28845251e-03,  3.17494560e-04,\n",
       "          3.81244230e-04, -2.34973384e-03,  1.14810118e-03,\n",
       "         -4.68534738e-04, -6.57951401e-04, -1.35605305e-03,\n",
       "         -2.62344605e-03,  1.51739107e-03],\n",
       "        [ 1.49612897e-03, -6.33316871e-04,  2.66948831e-03,\n",
       "          3.38318734e-03, -3.16730654e-03, -3.12599842e-03,\n",
       "         -1.57510582e-03,  7.60105846e-04,  4.26186016e-04,\n",
       "          2.53354153e-03,  4.42913733e-03, -1.71954569e-03,\n",
       "          3.63115757e-03,  3.22329067e-03, -2.30808952e-03,\n",
       "         -1.55577483e-03, -2.03062198e-03, -2.78144772e-03,\n",
       "         -1.37271767e-03,  6.80082303e-04, -4.07863129e-03,\n",
       "          4.96876659e-04,  1.27134298e-03, -1.86378194e-03,\n",
       "         -2.46734242e-03, -5.79666812e-04,  1.43695332e-04,\n",
       "          9.87972671e-05, -6.38930826e-03,  2.15255097e-03,\n",
       "         -1.47272018e-03, -1.87643152e-03],\n",
       "        [ 3.28687672e-03, -3.30900983e-03, -1.46803388e-03,\n",
       "          1.22828281e-03,  7.54774141e-04, -1.36670482e-03,\n",
       "         -2.14568083e-03,  3.41365300e-03,  5.36850479e-04,\n",
       "          2.35586404e-03,  4.50594723e-03,  1.22573541e-03,\n",
       "          3.48762306e-03,  3.27877374e-03, -3.70550388e-03,\n",
       "         -4.01606201e-04, -7.94141437e-04,  3.33576277e-03,\n",
       "          1.85019779e-03,  2.47130729e-03, -3.67000559e-03,\n",
       "          9.96957649e-04,  4.13685758e-03, -1.13920995e-03,\n",
       "         -1.63485261e-03,  2.15876335e-03, -1.19953020e-03,\n",
       "          9.69379907e-04, -1.88187056e-03,  1.63506577e-03,\n",
       "          2.98920972e-03, -2.29713111e-03],\n",
       "        [-1.21655362e-03,  1.30811299e-03,  6.56862569e-04,\n",
       "         -5.04545387e-05, -4.62839409e-04,  4.69493243e-04,\n",
       "          6.14899764e-05, -1.51393365e-03, -8.77565471e-04,\n",
       "         -3.99677985e-04, -1.52652140e-03, -9.32452676e-04,\n",
       "         -6.27130910e-04, -6.43273350e-04,  1.07635104e-03,\n",
       "         -6.51315611e-04, -5.14094252e-04, -2.05679517e-03,\n",
       "         -1.20092521e-03, -1.28621713e-03,  1.22750527e-03,\n",
       "         -3.77961951e-05, -1.56312739e-03,  3.17512429e-04,\n",
       "          6.87991211e-04, -1.04403053e-03,  5.62300324e-04,\n",
       "         -5.43245878e-05, -4.56632770e-05, -6.77537872e-04,\n",
       "         -1.18596572e-03,  5.01311966e-04],\n",
       "        [ 1.42483274e-03, -1.35861733e-03, -7.69373088e-04,\n",
       "         -8.01701026e-05,  4.26733925e-04, -5.74480859e-04,\n",
       "          2.26730481e-05,  1.34933239e-03,  8.18157918e-04,\n",
       "          4.30089509e-04,  1.70163100e-03,  9.66047402e-04,\n",
       "          7.01432757e-04,  6.62591599e-04, -9.12016898e-04,\n",
       "          4.69038525e-04,  5.36715204e-04,  1.98842282e-03,\n",
       "          1.04967889e-03,  1.27891602e-03, -1.44428248e-03,\n",
       "         -3.73038238e-05,  1.66085036e-03, -3.10349627e-04,\n",
       "         -5.79047657e-04,  1.14427751e-03, -5.84419526e-04,\n",
       "          2.48755769e-05,  2.21283026e-05,  8.79055413e-04,\n",
       "          1.10185076e-03, -6.43785694e-04]]], dtype=float32)>"
      ]
     },
     "execution_count": 113,
     "metadata": {},
     "output_type": "execute_result"
    }
   ],
   "source": [
    "conv[0]"
   ]
  },
  {
   "cell_type": "code",
   "execution_count": 105,
   "metadata": {
    "scrolled": true
   },
   "outputs": [
    {
     "data": {
      "text/plain": [
       "<tf.Tensor: shape=(7, 6, 1), dtype=float32, numpy=\n",
       "array([[[ 0.00172731],\n",
       "        [ 0.01049861],\n",
       "        [-0.00816511],\n",
       "        [ 0.00154627],\n",
       "        [-0.00031095],\n",
       "        [ 0.00969618]],\n",
       "\n",
       "       [[-0.00518938],\n",
       "        [ 0.00534161],\n",
       "        [-0.00530425],\n",
       "        [ 0.00502009],\n",
       "        [-0.00150965],\n",
       "        [ 0.01246564]],\n",
       "\n",
       "       [[-0.00654637],\n",
       "        [-0.00953049],\n",
       "        [-0.00409291],\n",
       "        [ 0.01060599],\n",
       "        [-0.00934777],\n",
       "        [ 0.01284254]],\n",
       "\n",
       "       [[ 0.00026613],\n",
       "        [-0.01842894],\n",
       "        [-0.00470491],\n",
       "        [ 0.00820029],\n",
       "        [-0.0097271 ],\n",
       "        [ 0.00784253]],\n",
       "\n",
       "       [[ 0.00513819],\n",
       "        [-0.00367379],\n",
       "        [-0.01203322],\n",
       "        [ 0.00150345],\n",
       "        [-0.00242491],\n",
       "        [ 0.00384084]],\n",
       "\n",
       "       [[ 0.0051789 ],\n",
       "        [-0.00964824],\n",
       "        [-0.00935502],\n",
       "        [ 0.00477418],\n",
       "        [-0.00457334],\n",
       "        [ 0.00505277]],\n",
       "\n",
       "       [[ 0.00982496],\n",
       "        [-0.00653577],\n",
       "        [-0.01515239],\n",
       "        [ 0.00325249],\n",
       "        [-0.00358495],\n",
       "        [ 0.00295588]]], dtype=float32)>"
      ]
     },
     "execution_count": 105,
     "metadata": {},
     "output_type": "execute_result"
    }
   ],
   "source": [
    "popo[0]"
   ]
  },
  {
   "cell_type": "code",
   "execution_count": 100,
   "metadata": {},
   "outputs": [
    {
     "data": {
      "text/plain": [
       "<tf.Tensor: shape=(7, 6), dtype=float32, numpy=\n",
       "array([[ 0.00172731,  0.01049861, -0.00816511,  0.00154627, -0.00031095,\n",
       "         0.00969618],\n",
       "       [-0.00518938,  0.00534161, -0.00530425,  0.00502009, -0.00150965,\n",
       "         0.01246564],\n",
       "       [-0.00654637, -0.00953049, -0.00409291,  0.01060599, -0.00934777,\n",
       "         0.01284254],\n",
       "       [ 0.00026613, -0.01842894, -0.00470491,  0.00820029, -0.0097271 ,\n",
       "         0.00784253],\n",
       "       [ 0.00513819, -0.00367379, -0.01203322,  0.00150345, -0.00242491,\n",
       "         0.00384084],\n",
       "       [ 0.0051789 , -0.00964824, -0.00935502,  0.00477418, -0.00457334,\n",
       "         0.00505277],\n",
       "       [ 0.00982496, -0.00653577, -0.01515239,  0.00325249, -0.00358495,\n",
       "         0.00295588]], dtype=float32)>"
      ]
     },
     "execution_count": 100,
     "metadata": {},
     "output_type": "execute_result"
    }
   ],
   "source": [
    "ss[0]"
   ]
  },
  {
   "cell_type": "code",
   "execution_count": 31,
   "metadata": {
    "scrolled": false
   },
   "outputs": [
    {
     "data": {
      "text/plain": [
       "<tf.Tensor: shape=(7, 12), dtype=float32, numpy=\n",
       "array([[-4.5859260e-03,  4.1419123e-03, -3.9950535e-03, -3.9309454e-03,\n",
       "        -4.5419531e-03,  1.4804996e-03, -6.6988787e-04,  2.4446666e-03,\n",
       "         7.0754241e-04, -1.8825310e-03,  3.6247489e-03,  3.9117392e-03],\n",
       "       [-4.9225986e-03,  6.2483917e-03, -4.0093525e-03, -3.2098610e-03,\n",
       "        -5.0666383e-03,  3.0881627e-03,  8.7517925e-04,  2.4149537e-03,\n",
       "         2.5902595e-03, -2.8942986e-03,  5.9694303e-03,  5.3185928e-03],\n",
       "       [-4.8835012e-03,  6.7893476e-03, -3.3952864e-03, -4.1656708e-03,\n",
       "        -6.7955987e-03,  1.3885917e-03, -1.3306320e-03,  1.5843321e-05,\n",
       "         4.0122624e-03, -9.8846457e-04,  4.5822929e-03,  4.6087201e-03],\n",
       "       [-3.9847251e-03,  6.9678500e-03, -2.5197077e-03, -2.7062034e-03,\n",
       "        -6.0865325e-03,  1.5815347e-04, -7.8103767e-04,  6.2760839e-04,\n",
       "         3.5912071e-03, -1.0547325e-03,  3.7951423e-03,  3.3432255e-03],\n",
       "       [-7.2109047e-03,  1.0599938e-02, -5.2320333e-03, -5.1172976e-03,\n",
       "        -9.2289308e-03,  1.2855661e-03, -1.1084500e-03,  2.7723953e-03,\n",
       "         4.2912173e-03, -2.8018267e-03,  6.8463339e-03,  6.1884560e-03],\n",
       "       [-2.2663421e-03,  7.7806511e-03, -1.9160234e-03,  8.5904216e-04,\n",
       "        -4.4875396e-03, -1.6940302e-03,  1.6179389e-03,  4.6564704e-03,\n",
       "         1.3882495e-03, -2.5309320e-03,  2.5652710e-03,  1.5291946e-03],\n",
       "       [ 4.6433611e-03,  1.3689914e-03,  3.6068188e-03,  6.3898712e-03,\n",
       "         2.3304014e-03, -3.9887759e-03,  1.7592014e-03,  1.6454769e-03,\n",
       "        -3.4522187e-04,  4.1382265e-04, -3.4543425e-03, -4.2194510e-03]],\n",
       "      dtype=float32)>"
      ]
     },
     "execution_count": 31,
     "metadata": {},
     "output_type": "execute_result"
    }
   ],
   "source": [
    "ls1(po)[0]"
   ]
  },
  {
   "cell_type": "code",
   "execution_count": 32,
   "metadata": {
    "scrolled": false
   },
   "outputs": [
    {
     "data": {
      "text/plain": [
       "<tf.Tensor: shape=(7, 12), dtype=float32, numpy=\n",
       "array([[-4.8207929e-03, -5.5268663e-03, -5.0336309e-04,  3.0486949e-03,\n",
       "         3.8747871e-03, -3.5070907e-04,  4.8117852e-03,  3.5238527e-03,\n",
       "        -4.7660461e-03, -2.6722893e-03, -2.8781400e-03,  3.0135473e-03],\n",
       "       [-4.8168711e-03, -6.6080294e-03, -4.8483959e-03,  5.3076847e-03,\n",
       "         4.8843608e-03, -1.6133311e-03,  6.5904721e-03,  2.0709494e-03,\n",
       "        -3.1312630e-03, -5.9276172e-03, -3.7902971e-03,  5.2241812e-04],\n",
       "       [-1.3033663e-04,  3.8823663e-04, -4.8400629e-03,  2.4611286e-03,\n",
       "         1.6493949e-03, -1.8319922e-03,  1.5848908e-03, -1.9231375e-03,\n",
       "         2.1805372e-03, -3.2670670e-03, -8.5418072e-04, -2.7869632e-03],\n",
       "       [-9.3170529e-06,  1.0714321e-03, -3.8194831e-03,  2.0993366e-03,\n",
       "         1.4106495e-03, -1.3677820e-03,  1.2276894e-03, -2.1351066e-03,\n",
       "         2.5099092e-03, -2.2294826e-03, -1.8930553e-04, -3.2355292e-03],\n",
       "       [-2.0663647e-04,  3.6244995e-03, -5.6749186e-04,  1.2817255e-03,\n",
       "         4.9108360e-04,  2.0703948e-05,  9.0385810e-04, -2.2408802e-03,\n",
       "         2.3283584e-03,  5.3508254e-04,  6.5895874e-04, -1.6939692e-03],\n",
       "       [ 1.6985327e-03,  3.5951475e-03, -1.8419886e-04, -9.7591063e-04,\n",
       "        -5.1176461e-04, -5.5250194e-04, -1.9889877e-03, -2.1092191e-03,\n",
       "         3.0011253e-03,  1.7323488e-03,  1.7169389e-03, -2.8735455e-03],\n",
       "       [ 5.0438400e-03,  6.5406249e-03,  1.0294570e-04, -2.5201186e-03,\n",
       "        -3.6248195e-03,  4.5823422e-04, -4.4752415e-03, -4.7675166e-03,\n",
       "         6.4276168e-03,  3.2157628e-03,  3.7146113e-03, -5.5357222e-03]],\n",
       "      dtype=float32)>"
      ]
     },
     "execution_count": 32,
     "metadata": {},
     "output_type": "execute_result"
    }
   ],
   "source": [
    "ls2(po)[0]"
   ]
  },
  {
   "cell_type": "code",
   "execution_count": 33,
   "metadata": {
    "scrolled": true
   },
   "outputs": [
    {
     "data": {
      "text/plain": [
       "<tf.Tensor: shape=(7, 24), dtype=float32, numpy=\n",
       "array([[ 2.6062552e-03,  2.3405182e-03, -2.0846822e-03, -2.9089998e-03,\n",
       "         1.2997246e-03,  1.2247565e-03, -1.5384082e-03, -2.4515875e-03,\n",
       "        -4.1957893e-03, -4.6856711e-03, -8.0710772e-04,  5.3328359e-03,\n",
       "         5.0438400e-03,  6.5406249e-03,  1.0294570e-04, -2.5201186e-03,\n",
       "        -3.6248195e-03,  4.5823422e-04, -4.4752415e-03, -4.7675166e-03,\n",
       "         6.4276168e-03,  3.2157628e-03,  3.7146113e-03, -5.5357222e-03],\n",
       "       [ 2.7017349e-03,  1.4666998e-03, -2.0764961e-03, -3.0350063e-03,\n",
       "         8.4387965e-04,  3.6212319e-04, -1.4760341e-03, -2.0500936e-03,\n",
       "        -3.8252405e-03, -5.8187088e-03, -2.7724271e-04,  6.6838609e-03,\n",
       "         1.6985327e-03,  3.5951475e-03, -1.8419886e-04, -9.7591063e-04,\n",
       "        -5.1176461e-04, -5.5250194e-04, -1.9889877e-03, -2.1092191e-03,\n",
       "         3.0011253e-03,  1.7323488e-03,  1.7169389e-03, -2.8735455e-03],\n",
       "       [ 2.3099859e-03,  2.6471908e-03, -4.2487012e-04, -3.5187907e-03,\n",
       "        -2.2655583e-03, -4.4423324e-04,  8.6212752e-04, -3.9965911e-03,\n",
       "        -2.0063499e-03, -5.7803122e-03, -1.3659133e-03,  6.7810114e-03,\n",
       "        -2.0663647e-04,  3.6244995e-03, -5.6749186e-04,  1.2817255e-03,\n",
       "         4.9108360e-04,  2.0703948e-05,  9.0385810e-04, -2.2408802e-03,\n",
       "         2.3283584e-03,  5.3508254e-04,  6.5895874e-04, -1.6939692e-03],\n",
       "       [ 3.0957256e-03,  1.7442214e-03, -5.5252376e-04, -3.1730689e-03,\n",
       "        -1.8252733e-03, -9.1551941e-05,  1.2071231e-04, -3.3954456e-03,\n",
       "        -1.7270885e-03, -4.6855197e-03, -1.6895228e-03,  5.9103197e-03,\n",
       "        -9.3170529e-06,  1.0714321e-03, -3.8194831e-03,  2.0993366e-03,\n",
       "         1.4106495e-03, -1.3677820e-03,  1.2276894e-03, -2.1351066e-03,\n",
       "         2.5099092e-03, -2.2294826e-03, -1.8930553e-04, -3.2355292e-03],\n",
       "       [ 5.2192686e-03,  3.0615178e-03, -2.2121656e-03, -5.2772583e-03,\n",
       "        -7.1951922e-04,  7.9571723e-04, -1.3004921e-03, -4.9897921e-03,\n",
       "        -4.8095682e-03, -8.1110457e-03, -2.3339787e-03,  9.9797901e-03,\n",
       "        -1.3033663e-04,  3.8823663e-04, -4.8400629e-03,  2.4611286e-03,\n",
       "         1.6493949e-03, -1.8319922e-03,  1.5848908e-03, -1.9231375e-03,\n",
       "         2.1805372e-03, -3.2670670e-03, -8.5418072e-04, -2.7869632e-03],\n",
       "       [ 6.7930692e-03, -3.9922612e-04, -1.7408051e-03, -2.5821812e-03,\n",
       "         1.0892446e-03,  2.1447339e-03, -3.7132290e-03, -1.3418089e-03,\n",
       "        -2.7825024e-03, -2.8520213e-03, -1.8998627e-03,  4.4938815e-03,\n",
       "        -4.8168711e-03, -6.6080294e-03, -4.8483959e-03,  5.3076847e-03,\n",
       "         4.8843608e-03, -1.6133311e-03,  6.5904721e-03,  2.0709494e-03,\n",
       "        -3.1312630e-03, -5.9276172e-03, -3.7902971e-03,  5.2241812e-04],\n",
       "       [ 3.3223049e-03, -3.4442497e-03,  1.5950589e-03,  1.8331881e-03,\n",
       "        -8.1489555e-04,  9.3638117e-04, -1.7091075e-03,  2.1088007e-03,\n",
       "         3.3810574e-03,  4.1829837e-03, -7.2610268e-04, -3.4504703e-03,\n",
       "        -4.8207929e-03, -5.5268663e-03, -5.0336309e-04,  3.0486949e-03,\n",
       "         3.8747871e-03, -3.5070907e-04,  4.8117852e-03,  3.5238527e-03,\n",
       "        -4.7660461e-03, -2.6722893e-03, -2.8781400e-03,  3.0135473e-03]],\n",
       "      dtype=float32)>"
      ]
     },
     "execution_count": 33,
     "metadata": {},
     "output_type": "execute_result"
    }
   ],
   "source": [
    "ss1(po)[0]"
   ]
  },
  {
   "cell_type": "code",
   "execution_count": 17,
   "metadata": {},
   "outputs": [],
   "source": [
    "\n",
    "model = tf.keras.models.Sequential()\n",
    "forward_layer = tf.keras.layers.LSTM(10, return_sequences=True)\n",
    "backward_layer = tf.keras.layers.LSTM(10, activation='relu', return_sequences=True,\n",
    "                       go_backwards=True)\n",
    "model.add(tf.keras.layers.Bidirectional(forward_layer, backward_layer=backward_layer,\n",
    "                        input_shape=(7, 3) ))\n",
    "model.compile(loss='categorical_crossentropy', optimizer='rmsprop')\n"
   ]
  },
  {
   "cell_type": "code",
   "execution_count": 18,
   "metadata": {
    "scrolled": true
   },
   "outputs": [
    {
     "data": {
      "text/plain": [
       "array([[[ 3.32372496e-03, -2.26440316e-04,  3.84904048e-03,\n",
       "          3.23258981e-04, -4.63325670e-03,  1.65402470e-03,\n",
       "          1.33806607e-03,  3.52353789e-03,  2.61766277e-03,\n",
       "          3.51763214e-03,  1.90172705e-03,  4.53045638e-03,\n",
       "          2.03589589e-04,  8.54538381e-03,  4.58517432e-04,\n",
       "          5.26618212e-03,  2.00293935e-03,  7.55253481e-03,\n",
       "          1.09488203e-03,  5.12369722e-03],\n",
       "        [ 3.67623940e-03, -1.80645788e-03,  4.77306452e-03,\n",
       "          2.04672525e-03, -5.28206490e-03,  6.95884752e-04,\n",
       "          2.31352332e-03,  4.62798681e-03,  3.31057748e-03,\n",
       "          3.55596212e-03,  2.02928926e-03,  2.44625541e-03,\n",
       "          2.77590210e-04,  4.80398722e-03,  6.26902445e-04,\n",
       "          4.00173431e-03,  2.75418791e-03,  4.22410574e-03,\n",
       "          1.50121842e-03,  2.84629548e-03],\n",
       "        [ 3.23628518e-03,  3.57419020e-04,  6.33099256e-03,\n",
       "          7.08287349e-04, -3.73584544e-03,  1.06553384e-03,\n",
       "         -4.67123609e-05,  4.98441933e-03,  4.39553522e-03,\n",
       "          1.11588254e-03,  2.78116157e-03,  2.15145852e-03,\n",
       "          6.90853049e-05,  4.09362232e-03,  8.62453948e-04,\n",
       "          5.12469932e-03,  3.75776994e-03,  3.44096054e-03,\n",
       "          2.05454603e-03,  1.35185150e-03],\n",
       "        [ 3.85036389e-03,  7.96029635e-04,  5.15205646e-03,\n",
       "          5.53675112e-04, -2.81587616e-03,  1.20191893e-03,\n",
       "         -4.35792783e-04,  4.39577503e-03,  4.03202185e-03,\n",
       "          9.27691755e-04,  4.89450060e-04,  2.82901409e-03,\n",
       "          9.45126303e-05,  5.60198445e-03,  1.17543899e-03,\n",
       "          2.29197741e-03,  5.15130768e-03,  3.94272571e-03,\n",
       "          1.82308827e-03,  1.85353844e-03],\n",
       "        [ 6.62871916e-03,  4.34491609e-04,  7.71006756e-03,\n",
       "          1.05354609e-03, -6.21193834e-03,  2.28292937e-03,\n",
       "          5.59136039e-04,  6.99113775e-03,  6.04925165e-03,\n",
       "          3.56698129e-03,  2.36942928e-04,  3.03895585e-03,\n",
       "          1.28851127e-04,  6.60623610e-03,  1.60474959e-03,\n",
       "          2.25779880e-03,  7.03815324e-03,  4.25007241e-03,\n",
       "          2.48398888e-03,  2.54217931e-03],\n",
       "        [ 6.32138457e-03,  9.11633426e-04,  2.49657151e-03,\n",
       "          7.70518091e-04, -2.31532077e-03,  1.97581109e-03,\n",
       "          3.52721865e-04,  3.53722810e-03,  2.60982616e-03,\n",
       "          3.08358390e-03,  0.00000000e+00,  5.83157758e-04,\n",
       "          1.77302558e-04,  8.39378568e-04,  2.19441415e-03,\n",
       "          0.00000000e+00,  9.68828611e-03,  0.00000000e+00,\n",
       "          3.40409740e-03,  0.00000000e+00],\n",
       "        [ 1.42817770e-03,  1.61080144e-03, -3.37573374e-03,\n",
       "         -6.64498293e-05,  4.41313069e-03, -1.77234077e-04,\n",
       "         -1.70083472e-03, -1.87933561e-03, -1.57523318e-03,\n",
       "         -1.62827806e-03,  0.00000000e+00,  0.00000000e+00,\n",
       "          2.43022412e-04,  0.00000000e+00,  3.02065071e-03,\n",
       "          0.00000000e+00,  8.90768319e-03,  0.00000000e+00,\n",
       "          4.66690306e-03,  0.00000000e+00]],\n",
       "\n",
       "       [[ 8.38972162e-04,  5.17285604e-04, -3.58931185e-03,\n",
       "         -6.23274536e-04,  1.31319184e-03,  7.44616089e-04,\n",
       "          5.19380264e-04, -2.06218939e-03, -2.59847264e-03,\n",
       "          1.45890692e-03,  1.51768315e-03,  2.44523771e-03,\n",
       "          2.03813266e-04,  2.41136574e-03,  4.33772831e-04,\n",
       "          2.43425858e-03,  5.28487330e-03,  2.81230896e-03,\n",
       "          9.64191160e-04,  2.58379919e-03],\n",
       "        [ 1.05653540e-03,  8.04486510e-04, -6.22657733e-03,\n",
       "         -1.12761825e-03,  2.05012294e-03,  1.31778140e-03,\n",
       "          1.29137130e-03, -3.70977493e-03, -4.88276081e-03,\n",
       "          3.02752969e-03,  2.06932332e-03,  2.24366761e-03,\n",
       "          2.79337488e-04,  3.30082304e-03,  4.18658165e-04,\n",
       "          3.33170337e-03,  2.93456228e-03,  3.83342360e-03,\n",
       "          9.77646094e-04,  3.52600357e-03],\n",
       "        [ 2.92333163e-04,  2.09137960e-03, -2.26810365e-03,\n",
       "         -2.12371442e-03,  7.02229037e-04,  1.85322482e-03,\n",
       "          3.03046283e-04, -1.82912534e-03, -2.65982188e-03,\n",
       "          2.37352448e-03,  2.84878048e-03,  1.91742450e-03,\n",
       "          3.81614198e-04,  4.52870736e-03,  0.00000000e+00,\n",
       "          4.61004395e-03,  0.00000000e+00,  5.07646613e-03,\n",
       "          8.36040650e-04,  4.80605615e-03],\n",
       "        [ 9.09469207e-04, -1.91489249e-04, -2.10204817e-04,\n",
       "         -5.73563593e-05, -1.96365896e-03,  1.07092236e-03,\n",
       "          2.23995233e-03,  2.28833887e-04, -1.14734238e-03,\n",
       "          3.73989763e-03,  2.36146239e-04,  2.63159140e-03,\n",
       "          5.19251334e-04,  6.19840296e-03,  0.00000000e+00,\n",
       "          1.82071514e-03,  0.00000000e+00,  5.78910811e-03,\n",
       "          0.00000000e+00,  6.58907043e-03],\n",
       "        [ 1.46132696e-03, -1.87457656e-03,  1.69236760e-03,\n",
       "          1.62096065e-03, -3.68997874e-03,  4.13239235e-04,\n",
       "          3.43530206e-03,  2.08640005e-03,  1.19334545e-04,\n",
       "          4.28161211e-03,  3.22979613e-04,  2.88783433e-03,\n",
       "          5.07569697e-04,  6.47815922e-03,  0.00000000e+00,\n",
       "          2.05110526e-03,  0.00000000e+00,  5.60362125e-03,\n",
       "          0.00000000e+00,  5.90925058e-03],\n",
       "        [ 4.37304704e-03, -1.67620741e-03,  5.59319323e-03,\n",
       "          1.89611444e-03, -7.08133075e-03,  1.77506683e-03,\n",
       "          3.94651387e-03,  5.53654460e-03,  2.71382881e-03,\n",
       "          6.35120273e-03,  4.43995348e-04,  3.16933426e-03,\n",
       "          4.98646812e-04,  6.94748247e-03,  0.00000000e+00,\n",
       "          2.27559661e-03,  0.00000000e+00,  5.46998717e-03,\n",
       "          0.00000000e+00,  5.04351826e-03],\n",
       "        [ 4.45289304e-03, -2.91188993e-03,  6.41278457e-03,\n",
       "          3.49128293e-03, -6.79898215e-03,  6.45713299e-04,\n",
       "          4.22974024e-03,  6.46503503e-03,  3.45635973e-03,\n",
       "          5.31327352e-03,  0.00000000e+00,  7.22518482e-04,\n",
       "          6.79692894e-04,  2.25030957e-03,  0.00000000e+00,\n",
       "          6.78978395e-05,  0.00000000e+00,  1.55530090e-03,\n",
       "          0.00000000e+00,  2.28805770e-03]]], dtype=float32)"
      ]
     },
     "execution_count": 18,
     "metadata": {},
     "output_type": "execute_result"
    }
   ],
   "source": [
    "model.predict(po)"
   ]
  },
  {
   "cell_type": "code",
   "execution_count": 92,
   "metadata": {},
   "outputs": [
    {
     "ename": "TypeError",
     "evalue": "bad operand type for unary -: 'list'",
     "output_type": "error",
     "traceback": [
      "\u001b[1;31m---------------------------------------------------------------------------\u001b[0m",
      "\u001b[1;31mTypeError\u001b[0m                                 Traceback (most recent call last)",
      "\u001b[1;32m<ipython-input-92-d30f6eee46a4>\u001b[0m in \u001b[0;36m<module>\u001b[1;34m\u001b[0m\n\u001b[1;32m----> 1\u001b[1;33m \u001b[0mz\u001b[0m \u001b[1;33m=\u001b[0m \u001b[1;36m1\u001b[0m\u001b[1;33m/\u001b[0m\u001b[1;33m(\u001b[0m\u001b[1;36m1\u001b[0m \u001b[1;33m+\u001b[0m \u001b[0mnp\u001b[0m\u001b[1;33m.\u001b[0m\u001b[0mexp\u001b[0m\u001b[1;33m(\u001b[0m\u001b[1;33m-\u001b[0m\u001b[1;33m[\u001b[0m\u001b[1;36m2\u001b[0m\u001b[1;33m,\u001b[0m\u001b[1;36m12\u001b[0m\u001b[1;33m,\u001b[0m\u001b[1;36m1\u001b[0m\u001b[1;33m,\u001b[0m\u001b[1;36m2\u001b[0m\u001b[1;33m,\u001b[0m\u001b[1;36m2\u001b[0m\u001b[1;33m]\u001b[0m\u001b[1;33m)\u001b[0m\u001b[1;33m)\u001b[0m\u001b[1;33m\u001b[0m\u001b[1;33m\u001b[0m\u001b[0m\n\u001b[0m",
      "\u001b[1;31mTypeError\u001b[0m: bad operand type for unary -: 'list'"
     ]
    }
   ],
   "source": []
  },
  {
   "cell_type": "code",
   "execution_count": null,
   "metadata": {},
   "outputs": [],
   "source": []
  }
 ],
 "metadata": {
  "kernelspec": {
   "display_name": "Python 3",
   "language": "python",
   "name": "python3"
  },
  "language_info": {
   "codemirror_mode": {
    "name": "ipython",
    "version": 3
   },
   "file_extension": ".py",
   "mimetype": "text/x-python",
   "name": "python",
   "nbconvert_exporter": "python",
   "pygments_lexer": "ipython3",
   "version": "3.7.7"
  }
 },
 "nbformat": 4,
 "nbformat_minor": 4
}
